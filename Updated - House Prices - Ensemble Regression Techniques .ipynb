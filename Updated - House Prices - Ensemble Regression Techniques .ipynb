{
 "cells": [
  {
   "cell_type": "markdown",
   "metadata": {},
   "source": [
    "# Best Ensemble Model Performance"
   ]
  },
  {
   "cell_type": "markdown",
   "metadata": {},
   "source": [
    "- Best Performance from - XGBoost\n",
    "- Best XGB parameters:  {'alpha': 0.1, 'colsample_bytree': 0.6, 'gamma': 0.1, 'lambda': 0.1, 'learning_rate': 0.1, 'max_depth': 6, 'min_child_weight': 1, 'n_estimators': 150, 'subsample': 0.6}\n",
    "                           \n",
    "                           \n",
    "- Best XGB Mean Cross-validation score: 0.9000979280668082\n",
    "- XGB Train Performance:  0.9958177155979924\n",
    "- XGB Test Performance:  0.8990642888872433"
   ]
  },
  {
   "cell_type": "markdown",
   "metadata": {},
   "source": [
    "###### If Std Deviation were to be considered to choose the best model I would say the best model is SVR since it has an equivalent CV score and a much lesser variance. Although the test score is lesser it may be better generalized to new data than the model trained by XGBoost given the lower variance."
   ]
  },
  {
   "cell_type": "markdown",
   "metadata": {},
   "source": [
    "- Performance of - SVR\n",
    "- Best SVR parameters:  {'C': 100, 'coef0': 20, 'degree': 3, 'epsilon': 0.1, 'gamma': 'auto', 'kernel': 'poly'} \n",
    "                           \n",
    "- SVR Mean Cross-validation score: 0.90\n",
    "- SVR Train Performance:  0.9444788521078157\n",
    "- SVR Test Performance:  0.8768076655482138"
   ]
  },
  {
   "cell_type": "markdown",
   "metadata": {},
   "source": [
    "# Best Basic Model Performance"
   ]
  },
  {
   "cell_type": "markdown",
   "metadata": {},
   "source": [
    "- Best Performance from - Lasso with hyperparameter tuning\n",
    "- Best Lasso parameters:  {'alpha': 10, 'copy_X': True, 'fit_intercept': True, 'max_iter': 10000, 'normalize': True, 'positive': True, 'precompute': False, 'selection': 'random', 'warm_start': True}\n",
    "                           \n",
    "                           \n",
    "- Best Lasso Mean Cross-validation score: 0.89\n",
    "- Lasso Train Performance:  0.9072326965004419\n",
    "- Lasso Test Performance:  0.8871244754623431"
   ]
  },
  {
   "cell_type": "markdown",
   "metadata": {},
   "source": [
    "- R-squared: 0.8723755587541305\n",
    "- Mean Absolute Error (MAE): 18851.654185144293\n",
    "- Mean Square Error(MSE): 775693617.6638514\n",
    "- Root Mean Square Error(RMSE): 27851.276769007403"
   ]
  },
  {
   "cell_type": "markdown",
   "metadata": {},
   "source": [
    "## Data PreProcessing"
   ]
  },
  {
   "cell_type": "code",
   "execution_count": 1,
   "metadata": {
    "ExecuteTime": {
     "end_time": "2020-03-09T07:32:49.555666Z",
     "start_time": "2020-03-09T07:32:49.545638Z"
    }
   },
   "outputs": [],
   "source": [
    "from math import sqrt\n",
    "import pandas as pd\n",
    "import numpy as np\n",
    "import matplotlib.pyplot as plt\n",
    "import seaborn as sns\n",
    "import scipy.stats as stats\n",
    "\n",
    "pd.pandas.set_option('display.max_columns', None)\n",
    "%matplotlib inline"
   ]
  },
  {
   "cell_type": "markdown",
   "metadata": {},
   "source": [
    "### Load Datasets"
   ]
  },
  {
   "cell_type": "code",
   "execution_count": 2,
   "metadata": {
    "ExecuteTime": {
     "end_time": "2020-03-09T07:32:50.854852Z",
     "start_time": "2020-03-09T07:32:50.812739Z"
    }
   },
   "outputs": [],
   "source": [
    "# load dataset\n",
    "data = pd.read_csv(r'D:\\EverythingDS\\DataSets\\houseprice.csv')"
   ]
  },
  {
   "cell_type": "markdown",
   "metadata": {},
   "source": [
    "### Types of variables\n",
    "\n"
   ]
  },
  {
   "cell_type": "code",
   "execution_count": 3,
   "metadata": {
    "ExecuteTime": {
     "end_time": "2020-03-09T07:32:51.725905Z",
     "start_time": "2020-03-09T07:32:51.719889Z"
    }
   },
   "outputs": [
    {
     "name": "stdout",
     "output_type": "stream",
     "text": [
      "Number of House Id labels:  1460\n",
      "Number of Houses in the Dataset:  1460\n"
     ]
    }
   ],
   "source": [
    "# we have an Id variable, that we should not use for predictions:\n",
    "\n",
    "print('Number of House Id labels: ', len(data.Id.unique()))\n",
    "print('Number of Houses in the Dataset: ', len(data))"
   ]
  },
  {
   "cell_type": "markdown",
   "metadata": {},
   "source": [
    "#### Find categorical variables"
   ]
  },
  {
   "cell_type": "code",
   "execution_count": 4,
   "metadata": {
    "ExecuteTime": {
     "end_time": "2020-03-09T07:32:53.140553Z",
     "start_time": "2020-03-09T07:32:53.135036Z"
    }
   },
   "outputs": [
    {
     "name": "stdout",
     "output_type": "stream",
     "text": [
      "There are 43 categorical variables\n"
     ]
    }
   ],
   "source": [
    "# find categorical variables- hint data type = 'O'\n",
    "\n",
    "categorical = [var for var in data.columns if data[var].dtype=='O']\n",
    "\n",
    "print(f'There are {len(categorical)} categorical variables')"
   ]
  },
  {
   "cell_type": "markdown",
   "metadata": {},
   "source": [
    "#### Find temporal variables"
   ]
  },
  {
   "cell_type": "code",
   "execution_count": 5,
   "metadata": {
    "ExecuteTime": {
     "end_time": "2020-03-09T07:32:54.328164Z",
     "start_time": "2020-03-09T07:32:54.321146Z"
    }
   },
   "outputs": [
    {
     "data": {
      "text/plain": [
       "['YearBuilt', 'YearRemodAdd', 'GarageYrBlt', 'YrSold']"
      ]
     },
     "execution_count": 5,
     "metadata": {},
     "output_type": "execute_result"
    }
   ],
   "source": [
    "# make a list of the numerical variables first= Hint data type != O\n",
    "numerical = [var for var in data.columns if data[var].dtype!='O']\n",
    "\n",
    "# list of variables that contain year information= Hint variable namme has Yr or \n",
    "year_vars = [var for var in numerical if 'Yr' in var or 'Year' in var]\n",
    "\n",
    "year_vars"
   ]
  },
  {
   "cell_type": "markdown",
   "metadata": {},
   "source": [
    "#### Find discrete variables\n",
    "\n",
    "To identify discrete variables- numerical variables with less than 20 unique values "
   ]
  },
  {
   "cell_type": "code",
   "execution_count": 6,
   "metadata": {
    "ExecuteTime": {
     "end_time": "2020-03-09T07:32:55.849304Z",
     "start_time": "2020-03-09T07:32:55.835765Z"
    }
   },
   "outputs": [
    {
     "name": "stdout",
     "output_type": "stream",
     "text": [
      "There are 14 discrete variables\n"
     ]
    }
   ],
   "source": [
    "# let's visualise the values of the discrete variables\n",
    "discrete = [var for var in numerical if len(data[var].unique()) < 20 and var not in year_vars]\n",
    "\n",
    "print(f'There are {len(discrete)} discrete variables')"
   ]
  },
  {
   "cell_type": "markdown",
   "metadata": {},
   "source": [
    "#### Continuous variables"
   ]
  },
  {
   "cell_type": "code",
   "execution_count": 7,
   "metadata": {
    "ExecuteTime": {
     "end_time": "2020-03-09T07:32:57.274949Z",
     "start_time": "2020-03-09T07:32:57.268932Z"
    }
   },
   "outputs": [
    {
     "name": "stdout",
     "output_type": "stream",
     "text": [
      "There are 38 numerical and continuous variables\n"
     ]
    }
   ],
   "source": [
    "# find continuous variables numerical variables not in discrete and  year_years \n",
    "# Also remove the Id variable and the target variable SalePrice\n",
    "# which are both also numerical\n",
    "\n",
    "continuous = [var for var in numerical if var not in discrete and var not in [\n",
    "    'Id', 'SalePrice'] and var not in year_vars]\n",
    "\n",
    "print('There are {} numerical and continuous variables'.format(len(numerical)))"
   ]
  },
  {
   "cell_type": "markdown",
   "metadata": {},
   "source": [
    "### Separate train and test set"
   ]
  },
  {
   "cell_type": "code",
   "execution_count": 8,
   "metadata": {
    "ExecuteTime": {
     "end_time": "2020-03-09T07:32:58.666697Z",
     "start_time": "2020-03-09T07:32:58.651653Z"
    }
   },
   "outputs": [
    {
     "data": {
      "text/plain": [
       "((1314, 79), (146, 79))"
      ]
     },
     "execution_count": 8,
     "metadata": {},
     "output_type": "execute_result"
    }
   ],
   "source": [
    "# Let's separate into train and test set\n",
    "from sklearn.model_selection import train_test_split\n",
    "X_train, X_test, y_train, y_test = train_test_split(data.drop(['Id', 'SalePrice'], axis=1),\n",
    "                                                    data['SalePrice'],\n",
    "                                                    test_size=0.1,\n",
    "                                                    random_state=0)\n",
    "\n",
    "X_train.shape, X_test.shape"
   ]
  },
  {
   "cell_type": "markdown",
   "metadata": {},
   "source": [
    "### Feature Engineering\n",
    "\n",
    "Replace 'YearBuilt', 'YearRemodAdd', 'GarageYrBlt  with time elapsed since YrSold\n",
    "So YearBuilt = YrSold-YearBuilt. \n",
    "\n",
    "Similarly transform 'YearRemodAdd', 'GarageYrBlt.\n",
    "After making transformation drop YrSold"
   ]
  },
  {
   "cell_type": "code",
   "execution_count": 9,
   "metadata": {
    "ExecuteTime": {
     "end_time": "2020-03-09T07:33:00.776674Z",
     "start_time": "2020-03-09T07:33:00.771663Z"
    }
   },
   "outputs": [],
   "source": [
    "# function to calculate elapsed time\n",
    "\n",
    "def elapsed_years(df, var):\n",
    "    # capture difference between year variable and\n",
    "    # year the house was sold\n",
    "    \n",
    "    df[var] = df['YrSold'] - df[var]\n",
    "    return df"
   ]
  },
  {
   "cell_type": "code",
   "execution_count": 10,
   "metadata": {
    "ExecuteTime": {
     "end_time": "2020-03-09T07:33:02.547542Z",
     "start_time": "2020-03-09T07:33:02.540522Z"
    }
   },
   "outputs": [],
   "source": [
    "for var in ['YearBuilt', 'YearRemodAdd', 'GarageYrBlt']:\n",
    "    X_train = elapsed_years(X_train, var)\n",
    "    X_test = elapsed_years(X_test, var)"
   ]
  },
  {
   "cell_type": "code",
   "execution_count": 11,
   "metadata": {
    "ExecuteTime": {
     "end_time": "2020-03-09T07:33:03.567722Z",
     "start_time": "2020-03-09T07:33:03.559698Z"
    }
   },
   "outputs": [],
   "source": [
    "# drop YrSold\n",
    "X_train.drop('YrSold', axis=1, inplace=True)\n",
    "X_test.drop('YrSold', axis=1, inplace=True)"
   ]
  },
  {
   "cell_type": "code",
   "execution_count": 12,
   "metadata": {
    "ExecuteTime": {
     "end_time": "2020-03-09T07:33:05.869066Z",
     "start_time": "2020-03-09T07:33:05.863050Z"
    }
   },
   "outputs": [
    {
     "data": {
      "text/plain": [
       "Index(['MSSubClass', 'MSZoning', 'LotFrontage', 'LotArea', 'Street', 'Alley',\n",
       "       'LotShape', 'LandContour', 'Utilities', 'LotConfig', 'LandSlope',\n",
       "       'Neighborhood', 'Condition1', 'Condition2', 'BldgType', 'HouseStyle',\n",
       "       'OverallQual', 'OverallCond', 'YearBuilt', 'YearRemodAdd', 'RoofStyle',\n",
       "       'RoofMatl', 'Exterior1st', 'Exterior2nd', 'MasVnrType', 'MasVnrArea',\n",
       "       'ExterQual', 'ExterCond', 'Foundation', 'BsmtQual', 'BsmtCond',\n",
       "       'BsmtExposure', 'BsmtFinType1', 'BsmtFinSF1', 'BsmtFinType2',\n",
       "       'BsmtFinSF2', 'BsmtUnfSF', 'TotalBsmtSF', 'Heating', 'HeatingQC',\n",
       "       'CentralAir', 'Electrical', '1stFlrSF', '2ndFlrSF', 'LowQualFinSF',\n",
       "       'GrLivArea', 'BsmtFullBath', 'BsmtHalfBath', 'FullBath', 'HalfBath',\n",
       "       'BedroomAbvGr', 'KitchenAbvGr', 'KitchenQual', 'TotRmsAbvGrd',\n",
       "       'Functional', 'Fireplaces', 'FireplaceQu', 'GarageType', 'GarageYrBlt',\n",
       "       'GarageFinish', 'GarageCars', 'GarageArea', 'GarageQual', 'GarageCond',\n",
       "       'PavedDrive', 'WoodDeckSF', 'OpenPorchSF', 'EnclosedPorch', '3SsnPorch',\n",
       "       'ScreenPorch', 'PoolArea', 'PoolQC', 'Fence', 'MiscFeature', 'MiscVal',\n",
       "       'MoSold', 'SaleType', 'SaleCondition'],\n",
       "      dtype='object')"
      ]
     },
     "execution_count": 12,
     "metadata": {},
     "output_type": "execute_result"
    }
   ],
   "source": [
    "# capture the column names for use later in the notebook\n",
    "final_columns = X_train.columns\n",
    "final_columns"
   ]
  },
  {
   "cell_type": "markdown",
   "metadata": {},
   "source": [
    "### Feature Engineering Pipeline"
   ]
  },
  {
   "cell_type": "code",
   "execution_count": 13,
   "metadata": {
    "ExecuteTime": {
     "end_time": "2020-03-09T07:33:07.930697Z",
     "start_time": "2020-03-09T07:33:07.909638Z"
    }
   },
   "outputs": [],
   "source": [
    "# I will treat discrete variables as if they were categorical\n",
    "# to treat discrete as categorical using Feature-engine\n",
    "# we need to re-cast them as object\n",
    "\n",
    "X_train[discrete] = X_train[discrete].astype('O')\n",
    "X_test[discrete] = X_test[discrete].astype('O')"
   ]
  },
  {
   "cell_type": "code",
   "execution_count": 14,
   "metadata": {
    "ExecuteTime": {
     "end_time": "2020-03-09T07:33:10.023580Z",
     "start_time": "2020-03-09T07:33:10.018569Z"
    }
   },
   "outputs": [],
   "source": [
    "# import relevant modules for feature engineering\n",
    "from sklearn.pipeline import Pipeline\n",
    "from sklearn.preprocessing import StandardScaler\n",
    "from feature_engine import missing_data_imputers as mdi\n",
    "from feature_engine import categorical_encoders as ce\n",
    "from feature_engine.variable_transformers import YeoJohnsonTransformer\n",
    "from sklearn.preprocessing import StandardScaler\n",
    "from feature_engine.discretisers import DecisionTreeDiscretiser"
   ]
  },
  {
   "cell_type": "code",
   "execution_count": 15,
   "metadata": {
    "ExecuteTime": {
     "end_time": "2020-03-09T07:33:11.578215Z",
     "start_time": "2020-03-09T07:33:11.570194Z"
    }
   },
   "outputs": [],
   "source": [
    "house_preprocess = Pipeline([\n",
    "    \n",
    "    # missing data imputation \n",
    "    ('missing_ind', mdi.AddNaNBinaryImputer(\n",
    "        variables=['LotFrontage', 'MasVnrArea',  'GarageYrBlt'])),\n",
    "    ('imputer_num', mdi.MeanMedianImputer(imputation_method='mean',\n",
    "                                          variables=['LotFrontage', 'MasVnrArea',  'GarageYrBlt'])),\n",
    "    ('imputer_cat', mdi.CategoricalVariableImputer(variables=categorical)),\n",
    "\n",
    "    # categorical encoding \n",
    "     ('rare_label_enc', ce.RareLabelCategoricalEncoder(\n",
    "         tol=0.01,n_categories=6, variables=categorical+discrete)),\n",
    "    ('categorical_enc', ce.MeanCategoricalEncoder(variables = categorical + discrete)),\n",
    "     \n",
    "    # Transforming Numerical Variables\n",
    "    ('yjt', YeoJohnsonTransformer(variables = ['LotFrontage','MasVnrArea', 'GarageYrBlt'])),\n",
    "\n",
    "    \n",
    "    # discretisation and encoding\n",
    "    ('treeDisc',  DecisionTreeDiscretiser(cv=2, scoring='neg_mean_squared_error',\n",
    "                                   regression=True,\n",
    "                                   param_grid={'max_depth': [1,2,3,4,5,6]})),\n",
    "\n",
    "    # feature Scaling\n",
    "    ('scaler', StandardScaler()),\n",
    "    \n",
    "    \n",
    "\n",
    "])"
   ]
  },
  {
   "cell_type": "code",
   "execution_count": 16,
   "metadata": {
    "ExecuteTime": {
     "end_time": "2020-03-09T07:33:18.934597Z",
     "start_time": "2020-03-09T07:33:15.096006Z"
    }
   },
   "outputs": [
    {
     "data": {
      "text/plain": [
       "Pipeline(memory=None,\n",
       "         steps=[('missing_ind',\n",
       "                 AddNaNBinaryImputer(variables=['LotFrontage', 'MasVnrArea',\n",
       "                                                'GarageYrBlt'])),\n",
       "                ('imputer_num',\n",
       "                 MeanMedianImputer(imputation_method='mean',\n",
       "                                   variables=['LotFrontage', 'MasVnrArea',\n",
       "                                              'GarageYrBlt'])),\n",
       "                ('imputer_cat',\n",
       "                 CategoricalVariableImputer(variables=['MSZoning', 'Street',\n",
       "                                                       'Alley', 'LotShape',\n",
       "                                                       'LandContour',\n",
       "                                                       'Utilities', '...\n",
       "                                                    'Utilities', 'LotConfig',\n",
       "                                                    'LandSlope', 'Neighborhood',\n",
       "                                                    'Condition1', 'Condition2',\n",
       "                                                    'BldgType', 'HouseStyle',\n",
       "                                                    'OverallQual',\n",
       "                                                    'OverallCond', 'YearBuilt',\n",
       "                                                    'YearRemodAdd', 'RoofStyle',\n",
       "                                                    'RoofMatl', 'Exterior1st',\n",
       "                                                    'Exterior2nd', 'MasVnrType',\n",
       "                                                    'MasVnrArea', 'ExterQual',\n",
       "                                                    'ExterCond', 'Foundation',\n",
       "                                                    'BsmtQual', ...])),\n",
       "                ('scaler',\n",
       "                 StandardScaler(copy=True, with_mean=True, with_std=True))],\n",
       "         verbose=False)"
      ]
     },
     "execution_count": 16,
     "metadata": {},
     "output_type": "execute_result"
    }
   ],
   "source": [
    "house_preprocess.fit(X_train,y_train)"
   ]
  },
  {
   "cell_type": "code",
   "execution_count": 17,
   "metadata": {
    "ExecuteTime": {
     "end_time": "2020-03-09T07:33:21.351997Z",
     "start_time": "2020-03-09T07:33:20.885744Z"
    }
   },
   "outputs": [],
   "source": [
    "# Apply Transformations\n",
    "X_train=house_preprocess.transform(X_train)\n",
    "X_test=house_preprocess.transform(X_test)"
   ]
  },
  {
   "cell_type": "markdown",
   "metadata": {},
   "source": [
    "# Models"
   ]
  },
  {
   "cell_type": "markdown",
   "metadata": {},
   "source": [
    "### a) Linear Regression"
   ]
  },
  {
   "cell_type": "markdown",
   "metadata": {},
   "source": [
    "##### Linear Regression without hyperparameter tuning"
   ]
  },
  {
   "cell_type": "code",
   "execution_count": 18,
   "metadata": {
    "ExecuteTime": {
     "end_time": "2020-03-09T07:33:23.368390Z",
     "start_time": "2020-03-09T07:33:23.292686Z"
    }
   },
   "outputs": [
    {
     "name": "stdout",
     "output_type": "stream",
     "text": [
      "Mean Cross-validation scores: [ 8.68335879e-01 -1.63333860e+22  8.76526862e-01  8.98295453e-01\n",
      "  8.92144253e-01]\n",
      "\n",
      "lr.coef_: [ 8.85927525e+02  9.75644921e+02  1.42545171e+03  2.42696786e+03\n",
      "  1.56693816e+03  3.24692479e+02  5.81879561e+02  1.20843642e+03\n",
      "  1.48451723e+03  2.33407390e+03  1.19468180e+03  1.13660741e+04\n",
      "  1.26370439e+03  2.05282944e+03  1.11219959e+03 -1.02795026e+03\n",
      "  1.58283046e+04 -2.87976032e+02 -5.42258305e+03  3.96685877e+03\n",
      "  3.83205283e+02 -1.05487079e+03  3.20053819e+03 -2.39216924e+03\n",
      " -8.64056302e+02  2.87342464e+02  2.68418516e+03  7.01892160e+02\n",
      "  1.10320795e+02  2.34026895e+03  5.77461978e+02  3.59790087e+03\n",
      "  1.26233209e+03  5.66404524e+03 -1.47947834e+03  1.92530058e+03\n",
      " -2.58202781e+02  7.61273013e+03  2.03532069e+02  1.45836364e+03\n",
      "  1.19537366e+03 -7.34010025e+02  1.22398147e+04  1.12640063e+04\n",
      "  4.18413086e+03  5.78194145e+03  2.84259370e+03 -1.31565113e+03\n",
      "  4.19564807e+03  5.26242437e+03  5.93220195e+02  3.05776071e+03\n",
      "  3.73937387e+03  3.13011975e+03  3.01289391e+03  7.35565521e+02\n",
      "  1.47684674e+03 -2.02685365e+03 -2.07258002e+03 -9.69663797e+02\n",
      "  3.98012591e+03  5.86152718e+02  2.36802065e+03  8.68933433e+01\n",
      " -3.83273064e+00  1.36040734e+03  1.54128741e+03  8.31811093e+01\n",
      "  2.25622832e+03  2.63532913e+03  5.09315278e+15 -5.09315278e+15\n",
      " -3.38288971e+02 -2.03137443e+03  7.41614927e+02 -1.80612627e+02\n",
      " -1.33412165e+03  5.51380709e+03 -2.19934909e+02  2.77239251e+02\n",
      " -1.29517299e+02]\n",
      "lr.intercept_: 181040.6240487064\n",
      "\n",
      "LR Performance Train:  0.9115066070570848\n",
      "LR Performance Test:  0.8751535973227208\n",
      "\n",
      "R-squared: 0.8596344059332968\n",
      "Mean Absolute Error (MAE): 20180.537991642123\n",
      "Mean Square Error(MSE): 857958872.3217721\n",
      "Root Mean Square Error(RMSE): 29290.93498544852\n"
     ]
    }
   ],
   "source": [
    "# Train a linear regression model, report the coefficients and model performance \n",
    "\n",
    "from sklearn.linear_model import LinearRegression\n",
    "from sklearn.model_selection import cross_val_score\n",
    "from sklearn.metrics import mean_squared_error\n",
    "from sklearn.metrics import r2_score\n",
    "from sklearn.metrics import mean_absolute_error\n",
    "\n",
    "lr = LinearRegression().fit(X_train, y_train)\n",
    "cv_scores = cross_val_score(lr, X_train, y_train, cv = 5)\n",
    "\n",
    "# Mean Cross validation Score\n",
    "print(\"Mean Cross-validation scores: {}\".format(cv_scores))\n",
    "print()\n",
    "# Print Co-efficients\n",
    "print(\"lr.coef_:\", lr.coef_)\n",
    "print(\"lr.intercept_:\", lr.intercept_)\n",
    "print()\n",
    "# Check test data set performance\n",
    "print(\"LR Performance Train: \", lr.score(X_train,y_train))\n",
    "print(\"LR Performance Test: \", lr.score(X_test,y_test))\n",
    "from sklearn import metrics\n",
    "prediction = lr.predict(X_test)\n",
    "print()\n",
    "print(\"R-squared:\",metrics.r2_score(prediction,y_test))\n",
    "print(\"Mean Absolute Error (MAE):\", mean_absolute_error(prediction,y_test))\n",
    "print('Mean Square Error(MSE): {}'.format(mean_squared_error(prediction,y_test)))\n",
    "print('Root Mean Square Error(RMSE): {}'.format(sqrt(mean_squared_error(prediction,y_test))))"
   ]
  },
  {
   "cell_type": "markdown",
   "metadata": {},
   "source": [
    "#### Linear Regression with hyperparameter tuning"
   ]
  },
  {
   "cell_type": "code",
   "execution_count": 19,
   "metadata": {},
   "outputs": [
    {
     "name": "stdout",
     "output_type": "stream",
     "text": [
      "Best Mean Cross-validation score: -6875.24\n",
      "\n",
      "Best Linear Regression parameters:  {'copy_X': True, 'fit_intercept': False, 'n_jobs': -1, 'normalize': True}\n",
      "\n",
      "LR.coef_: [ 8.87447130e+02  1.01770145e+03  1.42210870e+03  2.38308495e+03\n",
      "  1.54992552e+03  3.80803342e+02  5.93982258e+02  1.19349297e+03\n",
      "  1.49038515e+03  2.30842228e+03  1.18854284e+03  1.13614662e+04\n",
      "  1.24882507e+03  2.06175662e+03  1.11350037e+03 -1.03812458e+03\n",
      "  1.58789795e+04 -3.04109123e+02 -5.44842107e+03  3.98104551e+03\n",
      "  3.78422242e+02 -1.04790176e+03  3.23171163e+03 -2.41432153e+03\n",
      " -8.55351317e+02  2.72850001e+02  2.65824485e+03  6.78013639e+02\n",
      "  1.04885214e+02  2.35842534e+03  5.98376116e+02  3.62422961e+03\n",
      "  1.20071412e+03  5.69568278e+03 -1.49640621e+03  1.94118728e+03\n",
      " -2.29470223e+02  7.62270931e+03  2.27097199e+02  1.46415388e+03\n",
      "  1.15323064e+03 -7.08218588e+02  1.21691911e+04  1.12710940e+04\n",
      "  4.18838986e+03  5.78362878e+03  2.85829588e+03 -1.35342715e+03\n",
      "  4.19069721e+03  5.25643311e+03  5.95851549e+02  3.05521960e+03\n",
      "  3.74365141e+03  3.12680398e+03  3.01456880e+03  7.26017631e+02\n",
      "  1.49478370e+03 -2.06179260e+03 -2.03949076e+03 -9.84140335e+02\n",
      "  4.01090504e+03  5.90393513e+02  2.35339249e+03  1.34300430e+02\n",
      " -2.61620625e+01  1.34465812e+03  1.55929619e+03  6.31841640e+01\n",
      "  2.24966735e+03  2.61912551e+03 -1.81651332e+17  1.81651332e+17\n",
      " -3.34659535e+02 -2.02537364e+03  7.43430341e+02 -1.74676840e+02\n",
      " -1.34889883e+03  5.51047846e+03 -1.90201566e+02  2.85661655e+02\n",
      " -1.37228093e+02]\n",
      "LR.intercept_: 0.0\n",
      "\n",
      "LR Train Performance:  -4.337787920737443\n",
      "LR Test Performance :  -3.9591024948602787\n",
      "\n",
      "R-squared: -4.574051550146229\n",
      "Mean Absolute Error (MAE): 182278.0544161848\n",
      "Mean Square Error(MSE): 34079524062.992683\n",
      "Root Mean Square Error(RMSE): 184606.4030931557\n"
     ]
    }
   ],
   "source": [
    "from sklearn.model_selection import GridSearchCV\n",
    "lr = LinearRegression().fit(X_train,y_train)\n",
    "\n",
    "#define a list of parameters\n",
    "params = {'fit_intercept':[True,False], 'normalize':[True,False], 'copy_X':[True, False], 'n_jobs':[-1]}\n",
    "\n",
    "lr_gcv = GridSearchCV(lr, params, cv=5, return_train_score = True, scoring='r2')\n",
    "lr_gcv.fit(X_train, y_train)\n",
    "\n",
    "# Mean Cross Validation Score\n",
    "print(\"Best Mean Cross-validation score: {:.2f}\".format(lr_gcv.best_score_))\n",
    "print()\n",
    "\n",
    "#find best parameters\n",
    "print('Best Linear Regression parameters: ', lr_gcv.best_params_)\n",
    "print()\n",
    "# print co-eff\n",
    "\n",
    "print(\"LR.coef_:\", lr_gcv.best_estimator_.coef_)\n",
    "print(\"LR.intercept_:\", lr_gcv.best_estimator_.intercept_)\n",
    "print()\n",
    "# Check test data set performance\n",
    "\n",
    "print(\"LR Train Performance: \", lr_gcv.score(X_train,y_train))\n",
    "print(\"LR Test Performance : \", lr_gcv.score(X_test,y_test))\n",
    "from sklearn import metrics\n",
    "prediction = lr_gcv.predict(X_test)\n",
    "print()\n",
    "print(\"R-squared:\",metrics.r2_score(prediction,y_test))\n",
    "print(\"Mean Absolute Error (MAE):\", mean_absolute_error(y_test, prediction))\n",
    "print('Mean Square Error(MSE): {}'.format(mean_squared_error(prediction,y_test)))\n",
    "print('Root Mean Square Error(RMSE): {}'.format(sqrt(mean_squared_error(prediction,y_test))))"
   ]
  },
  {
   "cell_type": "markdown",
   "metadata": {},
   "source": [
    "#### Linear Regression with SGD"
   ]
  },
  {
   "cell_type": "code",
   "execution_count": 20,
   "metadata": {},
   "outputs": [
    {
     "name": "stdout",
     "output_type": "stream",
     "text": [
      "Best Mean Cross-validation score: 0.88\n",
      "\n",
      "Best Linear Regression parameters:  {'alpha': 0.1, 'early_stopping': False, 'eta0': 0.1, 'fit_intercept': True, 'l1_ratio': 0.3, 'learning_rate': 'adaptive', 'penalty': 'l2'}\n",
      "\n",
      "LR.coef_: [  566.90565398  1188.7663767   1427.38157631  2656.37818181\n",
      "  1500.33168262   249.37877817   696.33885896  1183.45746761\n",
      "  1413.14131472  2205.38532367  1255.61606788  9696.93306551\n",
      "  1215.71696474  1971.84234595  1152.34916131  -621.69761702\n",
      " 12468.1570024   -484.62648739 -2355.03001983  3106.52973681\n",
      "   752.67949108  -490.46705128   940.88681074  -414.1166934\n",
      "  -761.0434297    895.12383295  3480.25884431   685.78787018\n",
      "  -329.40771942  2734.82791915   444.6214747   3396.93879934\n",
      "  1385.81556347  5852.89182856 -1155.86792116  1828.4384078\n",
      "  -249.42458858  7834.43840385   139.83636558  1423.69603025\n",
      "  1245.60920226  -502.54317338 10549.53676341  9990.77128542\n",
      "  3657.96908297  6258.09284469  2497.83094697 -1030.38272318\n",
      "  3792.14290289  4368.15923582   913.63747884  2864.83134707\n",
      "  4251.83977965  3793.56543009  2798.68159275  1278.95620045\n",
      "  1948.20542387 -1350.12598675 -1381.81882409  -698.14040536\n",
      "  3508.56038432  1627.53287049  1532.91437861   554.57694424\n",
      "    41.74752074  1299.71477092  1598.28047485  -106.63342433\n",
      "  2033.83888325  2488.10291268  -650.12262189  -650.12262189\n",
      "  -350.91300098 -1448.41063561   446.89236078  -113.51056501\n",
      "   749.17968747  2787.94820357  -238.08286534   328.95024833\n",
      "    56.24352087]\n",
      "LR.intercept_: [181040.91028458]\n",
      "\n",
      "LR Train Performance:  0.9097224433884228\n",
      "LR Test Performance :  0.872449777505267\n",
      "\n",
      "R-squared: 0.8486927558460045\n",
      "Mean Absolute Error (MAE): 19655.129293580212\n",
      "Mean Square Error(MSE): 876539833.8216434\n",
      "Root Mean Square Error(RMSE): 29606.415416622855\n"
     ]
    }
   ],
   "source": [
    "from sklearn.model_selection import GridSearchCV\n",
    "from sklearn.linear_model import SGDRegressor\n",
    "lr_sgd = SGDRegressor().fit(X_train,y_train)\n",
    "\n",
    "#define a list of parameters\n",
    "params = {'eta0':[0.1], 'penalty':['l2'], 'alpha':[0.1],\n",
    "         'l1_ratio':[0.3], 'fit_intercept':[True],\n",
    "         'learning_rate':['adaptive'],\n",
    "         'early_stopping':[True,False]}\n",
    "\n",
    "grid_sgd = GridSearchCV(lr_sgd, params, cv=5, n_jobs=-1, return_train_score = True, scoring='r2')\n",
    "\n",
    "grid_sgd.fit(X_train, y_train)\n",
    "\n",
    "# Mean Cross Validation Score\n",
    "print(\"Best Mean Cross-validation score: {:.2f}\".format(grid_sgd.best_score_))\n",
    "print()\n",
    "\n",
    "#find best parameters\n",
    "print('Best Linear Regression parameters: ', grid_sgd.best_params_)\n",
    "print()\n",
    "# print co-eff\n",
    "\n",
    "print(\"LR.coef_:\", grid_sgd.best_estimator_.coef_)\n",
    "print(\"LR.intercept_:\", grid_sgd.best_estimator_.intercept_)\n",
    "print()\n",
    "# Check test data set performance\n",
    "\n",
    "print(\"LR Train Performance: \", grid_sgd.score(X_train,y_train))\n",
    "print(\"LR Test Performance : \", grid_sgd.score(X_test,y_test))\n",
    "\n",
    "prediction = grid_sgd.predict(X_test)\n",
    "print()\n",
    "print(\"R-squared:\",metrics.r2_score(prediction,y_test))\n",
    "print(\"Mean Absolute Error (MAE):\", mean_absolute_error(y_test, prediction))\n",
    "print('Mean Square Error(MSE): {}'.format(mean_squared_error(prediction,y_test)))\n",
    "print('Root Mean Square Error(RMSE): {}'.format(sqrt(mean_squared_error(prediction,y_test))))"
   ]
  },
  {
   "cell_type": "markdown",
   "metadata": {},
   "source": [
    "### b) Ridge Regression"
   ]
  },
  {
   "cell_type": "markdown",
   "metadata": {},
   "source": [
    "##### Ridge Regression without hyperparameter tuning"
   ]
  },
  {
   "cell_type": "code",
   "execution_count": 22,
   "metadata": {},
   "outputs": [
    {
     "name": "stdout",
     "output_type": "stream",
     "text": [
      "\n",
      "Ridge Train Performance:  0.911506182152134\n",
      "Ridge Test Performance::  0.8751424526508844\n",
      "\n",
      "R-squared: 0.8595461701862254\n",
      "Mean Absolute Error (MAE): 20173.45640505862\n",
      "Mean Square Error(MSE): 858035459.7914636\n",
      "Root Mean Square Error(RMSE): 29292.242314159965\n"
     ]
    }
   ],
   "source": [
    "from sklearn.model_selection import GridSearchCV\n",
    "from sklearn.linear_model import Ridge\n",
    "ridge = Ridge()\n",
    "\n",
    "ridge.fit(X_train, y_train)\n",
    "# print(\"Best Mean Cross-validation score: {:.2f}\".format(grid_ridge.best_score_))\n",
    "print()\n",
    "\n",
    "print(\"Ridge Train Performance: \", ridge.score(X_train,y_train))\n",
    "print(\"Ridge Test Performance:: \", ridge.score(X_test,y_test))\n",
    "prediction = ridge.predict(X_test)\n",
    "print()\n",
    "\n",
    "print(\"R-squared:\",metrics.r2_score(prediction,y_test))\n",
    "print(\"Mean Absolute Error (MAE):\", mean_absolute_error(prediction,y_test))\n",
    "print('Mean Square Error(MSE): {}'.format(mean_squared_error(prediction,y_test)))\n",
    "print('Root Mean Square Error(RMSE): {}'.format(sqrt(mean_squared_error(prediction,y_test))))"
   ]
  },
  {
   "cell_type": "markdown",
   "metadata": {},
   "source": [
    "##### Ridge Regression with hyperparameter tuning"
   ]
  },
  {
   "cell_type": "code",
   "execution_count": 23,
   "metadata": {},
   "outputs": [
    {
     "name": "stdout",
     "output_type": "stream",
     "text": [
      "Best Mean Cross-validation score: 0.88\n",
      "\n",
      "Ridge parameters:  {'alpha': 120, 'copy_X': True, 'fit_intercept': True, 'max_iter': 10, 'normalize': False}\n",
      "\n",
      "Ridge.coef_: [  611.0628824   1198.20214482  1437.37773173  2677.67230977\n",
      "  1495.26730393   254.17877379   684.98667657  1182.86011979\n",
      "  1404.72124228  2223.79359196  1258.56715507  9704.49396065\n",
      "  1225.47314506  1967.83214048  1218.39632953  -618.11477407\n",
      " 12713.71653905  -479.35996705 -2542.30147251  3142.90004255\n",
      "   726.26382528  -542.33283351  1653.63361435 -1154.19969425\n",
      "  -792.6306418    895.39827873  3468.25657534   684.95963716\n",
      "  -313.20359377  2766.15111526   443.20763721  3431.6674931\n",
      "  1388.07492842  5876.06136473 -1169.13592349  1823.64665478\n",
      "  -233.50458111  7769.56297187   154.6154598   1415.1433389\n",
      "  1231.3331523   -513.98866099 10565.72826627  9993.78272512\n",
      "  3667.04981657  6294.22836006  2506.88469762 -1070.90539282\n",
      "  3774.5211788   4402.78917008   864.63309175  2817.20013285\n",
      "  4247.61883843  3798.35357979  2827.01995321  1220.75795506\n",
      "  1928.40842117 -1373.91960601 -1379.29702701  -747.98282521\n",
      "  3480.31809834  1617.07038681  1562.82622401   550.6078506\n",
      "    45.43961971  1296.67446869  1586.78655227   -87.53129726\n",
      "  2035.95019858  2496.24946925  -655.14879113  -655.14879113\n",
      "  -369.89209569 -1469.49873924   472.62531796   -90.47611717\n",
      "   341.76444923  3219.22969494  -259.76155895   329.73512904\n",
      "    14.44610811]\n",
      "Ridge.intercept_: 181040.6240487064\n",
      "\n",
      "Ridge Train Performance:  0.9099627440534213\n",
      "Ridge Test Performance::  0.8725475117982958\n",
      "\n",
      "R-squared: 0.8489213360569093\n",
      "Mean Absolute Error (MAE): 19639.113746246323\n",
      "Mean Square Error(MSE): 875868192.4924897\n",
      "Root Mean Square Error(RMSE): 29595.07040864221\n"
     ]
    }
   ],
   "source": [
    "# Train a Ridge regression model, report the coefficients, the best parameters, and model performance \n",
    "from sklearn.model_selection import GridSearchCV\n",
    "from sklearn.linear_model import Ridge\n",
    "ridge = Ridge()\n",
    "\n",
    "#define a list of parameters\n",
    "param_ridge = {'alpha':[100, 120, 125],'fit_intercept':[True,False],\n",
    "               'normalize':[True,False], 'copy_X':[True, False], 'max_iter':[10]}\n",
    "\n",
    "grid_ridge = GridSearchCV(ridge, param_ridge, cv=5, return_train_score = True, scoring='r2')\n",
    "grid_ridge.fit(X_train, y_train)\n",
    "\n",
    "# Mean Cross Validation Score\n",
    "print(\"Best Mean Cross-validation score: {:.2f}\".format(grid_ridge.best_score_))\n",
    "print()\n",
    "\n",
    "#find best parameters\n",
    "print('Ridge parameters: ', grid_ridge.best_params_)\n",
    "print()\n",
    "\n",
    "# print co-eff\n",
    "\n",
    "print(\"Ridge.coef_:\", grid_ridge.best_estimator_.coef_)\n",
    "print(\"Ridge.intercept_:\", grid_ridge.best_estimator_.intercept_)\n",
    "print()\n",
    "\n",
    "# Check test data set performance\n",
    "\n",
    "print(\"Ridge Train Performance: \", grid_ridge.score(X_train,y_train))\n",
    "print(\"Ridge Test Performance:: \", grid_ridge.score(X_test,y_test))\n",
    "print()\n",
    "\n",
    "# Metrics\n",
    "prediction = grid_ridge.predict(X_test)\n",
    "print(\"R-squared:\",metrics.r2_score(prediction,y_test))\n",
    "print(\"Mean Absolute Error (MAE):\", mean_absolute_error(y_test, prediction))\n",
    "print('Mean Square Error(MSE): {}'.format(mean_squared_error(prediction,y_test)))\n",
    "print('Root Mean Square Error(RMSE): {}'.format(sqrt(mean_squared_error(prediction,y_test))))"
   ]
  },
  {
   "cell_type": "markdown",
   "metadata": {},
   "source": [
    "### c) Lasso regression"
   ]
  },
  {
   "cell_type": "markdown",
   "metadata": {},
   "source": [
    "##### Lasso Regression with hyperparameter tuning"
   ]
  },
  {
   "cell_type": "code",
   "execution_count": 24,
   "metadata": {},
   "outputs": [
    {
     "name": "stdout",
     "output_type": "stream",
     "text": [
      "Lasso.coef_: [    0.           848.15317598  1043.67673201  2663.43627759\n",
      "  1134.13004028     0.           282.67421909   973.09661679\n",
      "   902.88370251  1997.70312323  1326.76155537 10499.79377804\n",
      "   905.76494647  1882.62531218  1205.48589123     0.\n",
      " 15517.96954433     0.             0.          2265.32405639\n",
      "   129.72117562     0.             0.             0.\n",
      "     0.             0.          1796.73384361   433.51361156\n",
      "     0.           894.74157199     0.          3005.57090443\n",
      "     0.          6572.92855671     0.          1430.12339569\n",
      "     0.          7754.0716042      0.           773.24576314\n",
      "  1081.20082564     0.         12346.52962175 11553.32622102\n",
      "  3162.67282518  5742.19923665  2572.0312759      0.\n",
      "  2446.00187222  4056.63438615   732.39477367  2416.55338952\n",
      "  3939.74830885  3233.10416016  2324.02573849  1068.51084905\n",
      "  1339.43514519     0.             0.             0.\n",
      "  3381.11165742   255.76555408  1147.15089475     0.\n",
      "     0.          1078.46334594   952.54236966     0.\n",
      "  2307.35676696  2420.05533983     0.             0.\n",
      "     0.             0.             0.             0.\n",
      "     0.          3019.40671656     0.             0.\n",
      "     0.        ]\n",
      "Lasso.intercept_: 181040.62404870638\n",
      "\n",
      "Best Mean Cross-validation score: 0.89\n",
      "\n",
      "Lasso parameters:  {'alpha': 10, 'copy_X': True, 'fit_intercept': True, 'max_iter': 10000, 'normalize': True, 'positive': True, 'precompute': False, 'selection': 'random', 'warm_start': True}\n",
      "\n",
      "Lasso Train Performance:  0.9072326965004419\n",
      "Lasso Test Performance:  0.8871244754623429\n",
      "\n",
      "R-squared: 0.8723755587541305\n",
      "Mean Absolute Error (MAE): 18851.65418514432\n",
      "Mean Square Error(MSE): 775693617.6638525\n",
      "Root Mean Square Error(RMSE): 27851.27676900742\n"
     ]
    }
   ],
   "source": [
    "# Train a Lasso regression model, report the coefficients, the best parameters, and model performance \n",
    "\n",
    "from sklearn.linear_model import Lasso\n",
    "lasso = Lasso(random_state=0)\n",
    "\n",
    "#define a list of parameters\n",
    "param_lasso = {'alpha':[5, 10, 20], 'fit_intercept':[True,False], \n",
    "               'normalize':[True,False], 'copy_X':[True, False], 'precompute':[True,False],\n",
    "               'warm_start':[True, False], 'positive':[True, False], 'selection':['random','cyclic'],\n",
    "               'max_iter':[10000]}\n",
    "\n",
    "grid_lasso = GridSearchCV(lasso, param_lasso, cv=5, return_train_score = True, scoring='r2')\n",
    "grid_lasso.fit(X_train, y_train)\n",
    "\n",
    "# print co-eff\n",
    "print(\"Lasso.coef_:\", grid_lasso.best_estimator_.coef_)\n",
    "print(\"Lasso.intercept_:\", grid_lasso.best_estimator_.intercept_)\n",
    "print()\n",
    "\n",
    "# Mean Cross Validation Score\n",
    "print(\"Best Mean Cross-validation score: {:.2f}\".format(grid_lasso.best_score_))\n",
    "print()\n",
    "\n",
    "#find best parameters\n",
    "print('Lasso parameters: ', grid_lasso.best_params_)\n",
    "print()\n",
    "\n",
    "# Check test data set performance\n",
    "print(\"Lasso Train Performance: \", grid_lasso.score(X_train,y_train))\n",
    "print(\"Lasso Test Performance: \", grid_lasso.score(X_test,y_test))\n",
    "print()\n",
    "\n",
    "# Metrics\n",
    "prediction = grid_lasso.predict(X_test)\n",
    "print(\"R-squared:\",metrics.r2_score(prediction,y_test))\n",
    "print(\"Mean Absolute Error (MAE):\", mean_absolute_error(prediction,y_test))\n",
    "print('Mean Square Error(MSE): {}'.format(mean_squared_error(prediction,y_test)))\n",
    "print('Root Mean Square Error(RMSE): {}'.format(sqrt(mean_squared_error(prediction,y_test))))"
   ]
  },
  {
   "cell_type": "markdown",
   "metadata": {},
   "source": [
    "### d) Polynomial Regression"
   ]
  },
  {
   "cell_type": "code",
   "execution_count": 25,
   "metadata": {},
   "outputs": [
    {
     "name": "stdout",
     "output_type": "stream",
     "text": [
      "Best Mean Cross-validation score: -52364747501089368.00\n",
      "\n",
      "Polynomial Regression parameters:  {'polynomialfeatures__degree': 2}\n",
      "\n",
      "Polynomial Regression Train Performance:  0.9999955966028627\n",
      "Polynomial Regression Test Performance:  -1.9061138988228244e+16\n",
      "\n",
      "R-squared: -0.0011703097043804789\n",
      "Mean Absolute Error (MAE): 5419225132577.862\n",
      "Mean Square Error(MSE): 1.309903446219606e+26\n",
      "Root Mean Square Error(RMSE): 11445101337339.072\n"
     ]
    }
   ],
   "source": [
    "from sklearn.preprocessing  import PolynomialFeatures\n",
    "from sklearn.pipeline import Pipeline\n",
    "from sklearn.preprocessing import MinMaxScaler\n",
    "\n",
    "pipe_poly=Pipeline([ \n",
    "    ('polynomialfeatures', PolynomialFeatures()),\n",
    "    \n",
    "    ('norm_reg', LinearRegression())])\n",
    "\n",
    "param_poly = {'polynomialfeatures__degree':range(1,3)}\n",
    "\n",
    "grid_poly = GridSearchCV(pipe_poly, param_poly,cv=5, return_train_score = True, scoring='r2')\n",
    "\n",
    "grid_poly.fit(X_train, y_train)\n",
    "\n",
    "# Mean Cross Validation Score\n",
    "print(\"Best Mean Cross-validation score: {:.2f}\".format(grid_poly.best_score_))\n",
    "print()\n",
    "\n",
    "#find best parameters\n",
    "print('Polynomial Regression parameters: ', grid_poly.best_params_)\n",
    "print()\n",
    "\n",
    "# Check test data set performance\n",
    "print(\"Polynomial Regression Train Performance: \", grid_poly.score(X_train,y_train))\n",
    "print(\"Polynomial Regression Test Performance: \", grid_poly.score(X_test,y_test))\n",
    "print()\n",
    "\n",
    "# Metrics\n",
    "prediction = grid_poly.predict(X_test)\n",
    "print(\"R-squared:\",metrics.r2_score(prediction,y_test))\n",
    "print(\"Mean Absolute Error (MAE):\", mean_absolute_error(prediction,y_test))\n",
    "print('Mean Square Error(MSE): {}'.format(mean_squared_error(prediction,y_test)))\n",
    "print('Root Mean Square Error(RMSE): {}'.format(sqrt(mean_squared_error(prediction,y_test))))"
   ]
  },
  {
   "cell_type": "markdown",
   "metadata": {},
   "source": [
    "### e) Elastic Net"
   ]
  },
  {
   "cell_type": "code",
   "execution_count": 26,
   "metadata": {},
   "outputs": [],
   "source": [
    "# Elastic net without hyperparameter tuning"
   ]
  },
  {
   "cell_type": "code",
   "execution_count": 27,
   "metadata": {},
   "outputs": [
    {
     "name": "stdout",
     "output_type": "stream",
     "text": [
      "Training set score: 0.90\n",
      "Test set score: 0.85\n"
     ]
    }
   ],
   "source": [
    "from sklearn.linear_model import ElasticNet\n",
    "\n",
    "elasticnet = ElasticNet().fit(X_train, y_train)\n",
    "print(\"Training set score: {:.2f}\".format(elasticnet.score(X_train, y_train)))\n",
    "print(\"Test set score: {:.2f}\".format(elasticnet.score(X_test, y_test)))"
   ]
  },
  {
   "cell_type": "code",
   "execution_count": 28,
   "metadata": {},
   "outputs": [],
   "source": [
    "# With hyperparameter tuning"
   ]
  },
  {
   "cell_type": "code",
   "execution_count": 29,
   "metadata": {},
   "outputs": [
    {
     "name": "stdout",
     "output_type": "stream",
     "text": [
      "Best parameters:  {'alpha': 0.125, 'copy_X': True, 'fit_intercept': True, 'l1_ratio': 0.35, 'max_iter': 1000000, 'normalize': False, 'positive': True, 'warm_start': True}\n",
      "\n",
      "Best cross-validation score: 0.8872382180529321\n",
      "\n",
      "Training set score:  0.9067225793453365\n",
      "Test score:  0.8813337138181798\n",
      "\n",
      "R-squared: 0.8621213694207637\n",
      "Mean Absolute Error (MAE): 18979.939837090416\n",
      "Mean Square Error(MSE): 815488399.2800511\n",
      "Root Mean Square Error(RMSE): 28556.757506412578\n"
     ]
    }
   ],
   "source": [
    "elasticnet = ElasticNet(random_state=0)\n",
    "\n",
    "#define a list of parameters\n",
    "param_elasticnet = {'alpha':[0.125, 0.13, 0.14],'l1_ratio' :[0.3,0.35], 'max_iter':[1000000], 'fit_intercept':[True,False], \n",
    "                'normalize':[True,False], 'copy_X':[True, False],'warm_start':[True, False], 'positive':[True, False]}\n",
    "\n",
    "# param_elasticnet = {'alpha':[0.00001, 0.0001, 0.001, 0.01, 0.1, 1, 10],'fit_intercept':[True,False], \n",
    "#                 'normalize':[True,False], 'copy_X':[True, False],'warm_start':[True, False], 'positive':[True, False],\n",
    "#                 'l1_ratio' :[0.2,0.4,0.6,0.8], 'max_iter':[1000000]}\n",
    "\n",
    "grid_elasticnet = GridSearchCV(elasticnet , param_elasticnet, cv=5, return_train_score = True, scoring='r2')\n",
    "grid_elasticnet.fit(X_train, y_train)\n",
    "\n",
    "grid_elasticnet_train_score = grid_elasticnet.score(X_train, y_train)\n",
    "grid_elasticnet_test_score = grid_elasticnet.score(X_test, y_test)\n",
    "\n",
    "#find best parameters\n",
    "print('Best parameters: ', grid_elasticnet.best_params_)\n",
    "print()\n",
    "print('Best cross-validation score:', grid_elasticnet.best_score_)\n",
    "print()\n",
    "\n",
    "print('Training set score: ', grid_elasticnet_train_score)\n",
    "print('Test score: ', grid_elasticnet_test_score)\n",
    "print()\n",
    "\n",
    "prediction = grid_elasticnet.predict(X_test)\n",
    "print(\"R-squared:\",metrics.r2_score(prediction,y_test))\n",
    "print(\"Mean Absolute Error (MAE):\", mean_absolute_error(prediction,y_test))\n",
    "print('Mean Square Error(MSE): {}'.format(mean_squared_error(prediction,y_test)))\n",
    "print('Root Mean Square Error(RMSE): {}'.format(sqrt(mean_squared_error(prediction,y_test))))"
   ]
  },
  {
   "cell_type": "markdown",
   "metadata": {},
   "source": [
    "### f) KNN Regression"
   ]
  },
  {
   "cell_type": "code",
   "execution_count": 30,
   "metadata": {},
   "outputs": [],
   "source": [
    "# Without hyperparameter tuning"
   ]
  },
  {
   "cell_type": "code",
   "execution_count": 31,
   "metadata": {},
   "outputs": [
    {
     "name": "stdout",
     "output_type": "stream",
     "text": [
      "Training set score: 0.88\n",
      "Test set score: 0.59\n"
     ]
    }
   ],
   "source": [
    "from sklearn.neighbors import KNeighborsRegressor\n",
    "\n",
    "knnreg = KNeighborsRegressor().fit(X_train, y_train)\n",
    "print(\"Training set score: {:.2f}\".format(knnreg.score(X_train, y_train)))\n",
    "print(\"Test set score: {:.2f}\".format(knnreg.score(X_test, y_test)))"
   ]
  },
  {
   "cell_type": "code",
   "execution_count": 32,
   "metadata": {},
   "outputs": [],
   "source": [
    "# With hyperparameter tuning"
   ]
  },
  {
   "cell_type": "code",
   "execution_count": 33,
   "metadata": {},
   "outputs": [
    {
     "name": "stdout",
     "output_type": "stream",
     "text": [
      "Best parameters:  {'n_neighbors': 7}\n",
      "Best cross-validation score: 0.8094982197657485\n",
      "\n",
      "KNN train score:  0.8639346038181245\n",
      "KNN test score:  0.648087467301915\n",
      "R-squared: 0.2563737683652123\n",
      "Mean Absolute Error (MAE): 21448.666340508804\n",
      "Mean Square Error(MSE): 2418383495.5181713\n",
      "Root Mean Square Error(RMSE): 49177.062697137284\n"
     ]
    }
   ],
   "source": [
    "from sklearn.model_selection import GridSearchCV\n",
    "\n",
    "knn = KNeighborsRegressor().fit(X_train, y_train)\n",
    "param_knn = {'n_neighbors': [6,7,8]}\n",
    "\n",
    "#apply grid search\n",
    "gridknn = GridSearchCV(knn, param_knn, cv=5, return_train_score=True, scoring='r2')\n",
    "\n",
    "gridknn.fit(X_train, y_train)\n",
    "\n",
    "#find best parameters\n",
    "print('Best parameters: ', gridknn.best_params_)\n",
    "print('Best cross-validation score:', gridknn.best_score_)\n",
    "print()\n",
    "\n",
    "print('KNN train score: ', gridknn.score(X_train, y_train))\n",
    "print('KNN test score: ', gridknn.score(X_test, y_test))\n",
    "\n",
    "prediction = gridknn.predict(X_test)\n",
    "print(\"R-squared:\",metrics.r2_score(prediction,y_test))\n",
    "print(\"Mean Absolute Error (MAE):\", mean_absolute_error(prediction,y_test))\n",
    "print('Mean Square Error(MSE): {}'.format(mean_squared_error(prediction,y_test)))\n",
    "print('Root Mean Square Error(RMSE): {}'.format(sqrt(mean_squared_error(prediction,y_test))))"
   ]
  },
  {
   "cell_type": "markdown",
   "metadata": {},
   "source": [
    "### g) Decision Tree Regressor "
   ]
  },
  {
   "cell_type": "code",
   "execution_count": 34,
   "metadata": {},
   "outputs": [
    {
     "name": "stdout",
     "output_type": "stream",
     "text": [
      "Best Mean Cross-validation score: 0.77\n",
      "\n",
      "Best Decision Tree Regression parameters:  {'max_depth': 9, 'min_samples_split': 6, 'splitter': 'best'}\n",
      "\n",
      "Decision Tree Train Performance:  0.9505842806334412\n",
      "Decision Tree Test Performance:  0.8231504568996388\n",
      "\n",
      "R-squared: 0.8197222776254633\n",
      "Mean Absolute Error (MAE): 22586.369517799547\n",
      "Mean Square Error(MSE): 1215330448.5770319\n",
      "Root Mean Square Error(RMSE): 34861.589874488396\n"
     ]
    }
   ],
   "source": [
    "from sklearn.tree import DecisionTreeRegressor\n",
    "\n",
    "dt = DecisionTreeRegressor().fit(X_train,y_train)\n",
    "\n",
    "#define a list of parameters\n",
    "params = {'splitter':['best','random'],\n",
    "         'max_depth': [9,10],\n",
    "         'min_samples_split': range(2,10)}\n",
    "\n",
    "grid_dt = GridSearchCV(dt, params, cv=5, n_jobs=-1, return_train_score = True, scoring='r2')\n",
    "\n",
    "grid_dt.fit(X_train, y_train)\n",
    "\n",
    "# Mean Cross Validation Score\n",
    "print(\"Best Mean Cross-validation score: {:.2f}\".format(grid_dt.best_score_))\n",
    "print()\n",
    "\n",
    "#find best parameters\n",
    "print('Best Decision Tree Regression parameters: ', grid_dt.best_params_)\n",
    "print()\n",
    "\n",
    "# Check test data set performance\n",
    "print(\"Decision Tree Train Performance: \", grid_dt.score(X_train,y_train))\n",
    "print(\"Decision Tree Test Performance: \", grid_dt.score(X_test,y_test))\n",
    "\n",
    "prediction = grid_dt.predict(X_test)\n",
    "print()\n",
    "print(\"R-squared:\",metrics.r2_score(prediction,y_test))\n",
    "print(\"Mean Absolute Error (MAE):\", mean_absolute_error(y_test, prediction))\n",
    "print('Mean Square Error(MSE): {}'.format(mean_squared_error(prediction,y_test)))\n",
    "print('Root Mean Square Error(RMSE): {}'.format(sqrt(mean_squared_error(prediction,y_test))))"
   ]
  },
  {
   "cell_type": "markdown",
   "metadata": {},
   "source": [
    "### h) SVR"
   ]
  },
  {
   "cell_type": "code",
   "execution_count": 35,
   "metadata": {},
   "outputs": [
    {
     "name": "stdout",
     "output_type": "stream",
     "text": [
      "Best Mean Cross-validation score: 0.90\n",
      "\n",
      "Best Support Vector Regression parameters:  {'C': 100, 'coef0': 20, 'degree': 3, 'epsilon': 0.1, 'gamma': 'auto', 'kernel': 'poly'}\n",
      "\n",
      "Support Vector Regression Train Performance:  0.9444788521078157\n",
      "Support Vector Regression Test Performance:  0.8768076655482138\n",
      "\n",
      "R-squared: 0.8473936516889866\n",
      "Mean Absolute Error (MAE): 16937.008818000122\n",
      "Mean Square Error(MSE): 846591924.7842004\n",
      "Root Mean Square Error(RMSE): 29096.252761897027\n"
     ]
    }
   ],
   "source": [
    "from sklearn.svm import SVR\n",
    "\n",
    "svr = SVR()\n",
    "params = [\n",
    "#     {'kernel':['rbf'], 'C':[75, 100, 125], 'gamma':[0.1], 'epsilon':[.1]},\n",
    "#           {'kernel':['linear'], 'C':[1,10,100], 'gamma':['auto']},\n",
    "          {'kernel':['poly'], 'C':[75, 100, 125], 'gamma':['auto'], 'degree':[2,3], 'epsilon':[.1], 'coef0':[19,20,21]},\n",
    "#           {'kernel': ['sigmoid'],'C': [ 1, 10, 100], 'gamma': [0.001, 0.01, 0.1, 1, 10, 100]}\n",
    "]\n",
    "\n",
    "grid_svr = GridSearchCV(svr, params, cv=5, n_jobs=-1, return_train_score = True, scoring='r2')\n",
    "\n",
    "grid_svr.fit(X_train, y_train)\n",
    "\n",
    "\n",
    "# Mean Cross Validation Score\n",
    "print(\"Best Mean Cross-validation score: {:.2f}\".format(grid_svr.best_score_))\n",
    "print()\n",
    "\n",
    "#find best parameters\n",
    "print('Best Support Vector Regression parameters: ', grid_svr.best_params_)\n",
    "print()\n",
    "\n",
    "# Check test data set performance\n",
    "print(\"Support Vector Regression Train Performance: \", grid_svr.score(X_train,y_train))\n",
    "print(\"Support Vector Regression Test Performance: \", grid_svr.score(X_test,y_test))\n",
    "\n",
    "prediction = grid_svr.predict(X_test)\n",
    "print()\n",
    "print(\"R-squared:\",metrics.r2_score(prediction,y_test))\n",
    "print(\"Mean Absolute Error (MAE):\", mean_absolute_error(y_test, prediction))\n",
    "print('Mean Square Error(MSE): {}'.format(mean_squared_error(prediction,y_test)))\n",
    "print('Root Mean Square Error(RMSE): {}'.format(sqrt(mean_squared_error(prediction,y_test))))"
   ]
  },
  {
   "cell_type": "markdown",
   "metadata": {},
   "source": [
    "## Ensemble Models"
   ]
  },
  {
   "cell_type": "markdown",
   "metadata": {},
   "source": [
    "### Bagging with Decision Tree"
   ]
  },
  {
   "cell_type": "code",
   "execution_count": 36,
   "metadata": {},
   "outputs": [],
   "source": [
    "from sklearn.ensemble import BaggingRegressor\n",
    "from sklearn.tree import DecisionTreeClassifier"
   ]
  },
  {
   "cell_type": "code",
   "execution_count": 37,
   "metadata": {},
   "outputs": [
    {
     "data": {
      "text/plain": [
       "GridSearchCV(cv=5, error_score=nan,\n",
       "             estimator=BaggingRegressor(base_estimator=DecisionTreeRegressor(ccp_alpha=0.0,\n",
       "                                                                             criterion='mse',\n",
       "                                                                             max_depth=None,\n",
       "                                                                             max_features=None,\n",
       "                                                                             max_leaf_nodes=None,\n",
       "                                                                             min_impurity_decrease=0.0,\n",
       "                                                                             min_impurity_split=None,\n",
       "                                                                             min_samples_leaf=1,\n",
       "                                                                             min_samples_split=2,\n",
       "                                                                             min_weight_fraction_leaf=0.0,\n",
       "                                                                             presort='deprecated',\n",
       "                                                                             random_state=None,\n",
       "                                                                             splitter='be...\n",
       "                                        bootstrap_features=False,\n",
       "                                        max_features=1.0, max_samples=1.0,\n",
       "                                        n_estimators=10, n_jobs=None,\n",
       "                                        oob_score=False, random_state=0,\n",
       "                                        verbose=0, warm_start=False),\n",
       "             iid='deprecated', n_jobs=None,\n",
       "             param_grid={'base_estimator__max_depth': [9, 11],\n",
       "                         'max_samples': [0.8, 1], 'n_estimators': [100, 120]},\n",
       "             pre_dispatch='2*n_jobs', refit=True, return_train_score=True,\n",
       "             scoring=None, verbose=0)"
      ]
     },
     "execution_count": 37,
     "metadata": {},
     "output_type": "execute_result"
    }
   ],
   "source": [
    "bag_dtree = BaggingRegressor(base_estimator=DecisionTreeRegressor(), bootstrap=True, random_state=0, oob_score=False)\n",
    "\n",
    "bag_dtree_param = {\n",
    "                 'base_estimator__max_depth': [9,11],\n",
    "                 'max_samples':  [0.8,1],\n",
    "                 'n_estimators': [100,120]}\n",
    "\n",
    "bag_dtree_grid = GridSearchCV(bag_dtree, bag_dtree_param,cv=5, return_train_score=True, )\n",
    "bag_dtree_grid.fit(X_train,y_train)"
   ]
  },
  {
   "cell_type": "code",
   "execution_count": 38,
   "metadata": {},
   "outputs": [
    {
     "name": "stdout",
     "output_type": "stream",
     "text": [
      "Best Mean Cross Validation Score is 0.8736939281881189\n",
      "Best Params are {'base_estimator__max_depth': 11, 'max_samples': 0.8, 'n_estimators': 120}\n",
      "Train score is 0.9710571656457203\n",
      "Test score is 0.866001350988775\n"
     ]
    }
   ],
   "source": [
    "print(f'Best Mean Cross Validation Score is {bag_dtree_grid.best_score_}')\n",
    "print(f'Best Params are {bag_dtree_grid.best_params_}')\n",
    "print(f'Train score is {bag_dtree_grid.score(X_train,y_train)}')\n",
    "print(f'Test score is {bag_dtree_grid.score(X_test,y_test)}')"
   ]
  },
  {
   "cell_type": "markdown",
   "metadata": {},
   "source": [
    "### Bagging with Lasso"
   ]
  },
  {
   "cell_type": "code",
   "execution_count": 39,
   "metadata": {},
   "outputs": [
    {
     "data": {
      "text/plain": [
       "GridSearchCV(cv=5, error_score=nan,\n",
       "             estimator=BaggingRegressor(base_estimator=Lasso(alpha=1.0,\n",
       "                                                             copy_X=True,\n",
       "                                                             fit_intercept=True,\n",
       "                                                             max_iter=1000,\n",
       "                                                             normalize=False,\n",
       "                                                             positive=False,\n",
       "                                                             precompute=False,\n",
       "                                                             random_state=0,\n",
       "                                                             selection='cyclic',\n",
       "                                                             tol=0.0001,\n",
       "                                                             warm_start=False),\n",
       "                                        bootstrap=True,\n",
       "                                        bootstrap_features=False,\n",
       "                                        max_features=1.0, max_samples=1.0,\n",
       "                                        n_estimators=10, n_jobs=None,\n",
       "                                        o...\n",
       "                         'base_estimator__fit_intercept': [True, False],\n",
       "                         'base_estimator__max_iter': [10000],\n",
       "                         'base_estimator__normalize': [True, False],\n",
       "                         'base_estimator__positive': [True, False],\n",
       "                         'base_estimator__precompute': [True, False],\n",
       "                         'base_estimator__selection': ['random', 'cyclic'],\n",
       "                         'base_estimator__warm_start': [True, False]},\n",
       "             pre_dispatch='2*n_jobs', refit=True, return_train_score=True,\n",
       "             scoring=None, verbose=0)"
      ]
     },
     "execution_count": 39,
     "metadata": {},
     "output_type": "execute_result"
    }
   ],
   "source": [
    "bag_lasso1 = BaggingRegressor(base_estimator=Lasso(random_state=0), bootstrap=True, random_state=0, oob_score=False)\n",
    "\n",
    "bag_lasso1.fit(X_train, y_train)\n",
    "\n",
    "param_lasso = {\n",
    "        'base_estimator__alpha':[8, 10, 12], \n",
    "               'base_estimator__fit_intercept':[True,False], \n",
    "               'base_estimator__normalize':[True,False], 'base_estimator__copy_X':[True, False], \n",
    "               'base_estimator__precompute':[True,False],\n",
    "               'base_estimator__warm_start':[True, False], 'base_estimator__positive':[True, False], \n",
    "               'base_estimator__selection':['random','cyclic'], 'base_estimator__max_iter':[10000]\n",
    "              }\n",
    "\n",
    "bag_lasso1_grid = GridSearchCV(bag_lasso1, param_lasso, cv=5,return_train_score=True)\n",
    "bag_lasso1_grid.fit(X_train, y_train)"
   ]
  },
  {
   "cell_type": "code",
   "execution_count": 40,
   "metadata": {},
   "outputs": [
    {
     "name": "stdout",
     "output_type": "stream",
     "text": [
      "Best Mean Cross Validation Score is 0.8885923079667284\n",
      "Best Params are {'base_estimator__alpha': 8, 'base_estimator__copy_X': True, 'base_estimator__fit_intercept': True, 'base_estimator__max_iter': 10000, 'base_estimator__normalize': True, 'base_estimator__positive': True, 'base_estimator__precompute': True, 'base_estimator__selection': 'cyclic', 'base_estimator__warm_start': True}\n",
      "Support Vector Classifier Train Performance:  0.9052715321330753\n",
      "Support Vector Classifier Test Performance:  0.8831526668355961\n",
      "\n"
     ]
    }
   ],
   "source": [
    "print(f'Best Mean Cross Validation Score is {bag_lasso1_grid.best_score_}')\n",
    "print(f'Best Params are {bag_lasso1_grid.best_params_}')\n",
    "print(\"Support Vector Classifier Train Performance: \",bag_lasso1_grid.score(X_train,y_train))\n",
    "print(\"Support Vector Classifier Test Performance: \",bag_lasso1_grid.score(X_test,y_test))\n",
    "print()"
   ]
  },
  {
   "cell_type": "markdown",
   "metadata": {},
   "source": [
    "### Pasting with Decision Tree"
   ]
  },
  {
   "cell_type": "code",
   "execution_count": 41,
   "metadata": {},
   "outputs": [
    {
     "name": "stdout",
     "output_type": "stream",
     "text": [
      "Best Mean Cross Validation Score is 0.8696397213226332\n",
      "Best Params are {'base_estimator__max_depth': 11, 'max_samples': 0.6, 'n_estimators': 120}\n",
      "Train score is 0.975874389326231\n",
      "Test score is 0.8717525010929282\n"
     ]
    }
   ],
   "source": [
    "paste_dtree1 = BaggingRegressor(base_estimator=DecisionTreeRegressor(), bootstrap=False, random_state=0, oob_score=False)\n",
    "\n",
    "paste_dtree1_param = {\n",
    "                 'base_estimator__max_depth':[9,11],\n",
    "                 'max_samples':  [0.6,0.8],\n",
    "                 'n_estimators': [100,120]}\n",
    "paste_dtree1_grid = GridSearchCV(paste_dtree1, paste_dtree1_param,cv=5, return_train_score=True)\n",
    "paste_dtree1_grid.fit(X_train,y_train)\n",
    "\n",
    "print(f'Best Mean Cross Validation Score is {paste_dtree1_grid.best_score_}')\n",
    "print(f'Best Params are {paste_dtree1_grid.best_params_}')\n",
    "print(f'Train score is {paste_dtree1_grid.score(X_train,y_train)}')\n",
    "print(f'Test score is {paste_dtree1_grid.score(X_test,y_test)}')"
   ]
  },
  {
   "cell_type": "markdown",
   "metadata": {},
   "source": [
    "### Pasting with Lasso"
   ]
  },
  {
   "cell_type": "code",
   "execution_count": 42,
   "metadata": {},
   "outputs": [
    {
     "data": {
      "text/plain": [
       "GridSearchCV(cv=5, error_score=nan,\n",
       "             estimator=BaggingRegressor(base_estimator=Lasso(alpha=1.0,\n",
       "                                                             copy_X=True,\n",
       "                                                             fit_intercept=True,\n",
       "                                                             max_iter=1000,\n",
       "                                                             normalize=False,\n",
       "                                                             positive=False,\n",
       "                                                             precompute=False,\n",
       "                                                             random_state=0,\n",
       "                                                             selection='cyclic',\n",
       "                                                             tol=0.0001,\n",
       "                                                             warm_start=False),\n",
       "                                        bootstrap=False,\n",
       "                                        bootstrap_features=False,\n",
       "                                        max_features=1.0, max_samples=1.0,\n",
       "                                        n_estimators=10, n_jobs=None,...\n",
       "                         'base_estimator__fit_intercept': [True, False],\n",
       "                         'base_estimator__max_iter': [10000],\n",
       "                         'base_estimator__normalize': [True, False],\n",
       "                         'base_estimator__positive': [True, False],\n",
       "                         'base_estimator__precompute': [True, False],\n",
       "                         'base_estimator__selection': ['random'],\n",
       "                         'base_estimator__warm_start': [True, False]},\n",
       "             pre_dispatch='2*n_jobs', refit=True, return_train_score=True,\n",
       "             scoring=None, verbose=0)"
      ]
     },
     "execution_count": 42,
     "metadata": {},
     "output_type": "execute_result"
    }
   ],
   "source": [
    "paste_lasso1 = BaggingRegressor(base_estimator=Lasso(random_state=0), bootstrap=False, random_state=0, oob_score=False)\n",
    "\n",
    "paste_lasso1.fit(X_train, y_train)\n",
    "\n",
    "param_lasso = {\n",
    "        'base_estimator__alpha':[8, 10, 12], \n",
    "               'base_estimator__fit_intercept':[True,False], \n",
    "               'base_estimator__normalize':[True,False], 'base_estimator__copy_X':[True, False], \n",
    "               'base_estimator__precompute':[True,False],\n",
    "               'base_estimator__warm_start':[True, False], 'base_estimator__positive':[True, False], \n",
    "               'base_estimator__selection':['random'], 'base_estimator__max_iter':[10000]\n",
    "              }\n",
    "\n",
    "paste_lasso1_grid = GridSearchCV(paste_lasso1, param_lasso, cv=5,return_train_score=True)\n",
    "paste_lasso1_grid.fit(X_train, y_train)"
   ]
  },
  {
   "cell_type": "code",
   "execution_count": 43,
   "metadata": {},
   "outputs": [
    {
     "name": "stdout",
     "output_type": "stream",
     "text": [
      "Best Mean Cross Validation Score is 0.88697591154769\n",
      "Best Params are {'base_estimator__alpha': 10, 'base_estimator__copy_X': True, 'base_estimator__fit_intercept': True, 'base_estimator__max_iter': 10000, 'base_estimator__normalize': True, 'base_estimator__positive': True, 'base_estimator__precompute': False, 'base_estimator__selection': 'random', 'base_estimator__warm_start': True}\n",
      "Train score is 0.9072320776809087\n",
      "Test score is 0.8871015869733357\n"
     ]
    }
   ],
   "source": [
    "print(f'Best Mean Cross Validation Score is {paste_lasso1_grid.best_score_}')\n",
    "print(f'Best Params are {paste_lasso1_grid.best_params_}')\n",
    "print(f'Train score is {paste_lasso1_grid.score(X_train,y_train)}')\n",
    "print(f'Test score is {paste_lasso1_grid.score(X_test,y_test)}')"
   ]
  },
  {
   "cell_type": "markdown",
   "metadata": {},
   "source": [
    "### Random Forest Regressor"
   ]
  },
  {
   "cell_type": "code",
   "execution_count": 44,
   "metadata": {},
   "outputs": [],
   "source": [
    "from sklearn.ensemble import RandomForestRegressor"
   ]
  },
  {
   "cell_type": "code",
   "execution_count": 45,
   "metadata": {},
   "outputs": [
    {
     "data": {
      "text/plain": [
       "GridSearchCV(cv=5, error_score=nan,\n",
       "             estimator=RandomForestRegressor(bootstrap=True, ccp_alpha=0.0,\n",
       "                                             criterion='mse', max_depth=None,\n",
       "                                             max_features='auto',\n",
       "                                             max_leaf_nodes=None,\n",
       "                                             max_samples=None,\n",
       "                                             min_impurity_decrease=0.0,\n",
       "                                             min_impurity_split=None,\n",
       "                                             min_samples_leaf=1,\n",
       "                                             min_samples_split=2,\n",
       "                                             min_weight_fraction_leaf=0.0,\n",
       "                                             n_estimators=100, n_jobs=None,\n",
       "                                             oob_score=False, random_state=42,\n",
       "                                             verbose=0, warm_start=False),\n",
       "             iid='deprecated', n_jobs=None,\n",
       "             param_grid={'criterion': ['mse'], 'max_depth': [8, 9, 11],\n",
       "                         'max_features': ['auto'],\n",
       "                         'n_estimators': [400, 500, 700]},\n",
       "             pre_dispatch='2*n_jobs', refit=True, return_train_score=True,\n",
       "             scoring=None, verbose=0)"
      ]
     },
     "execution_count": 45,
     "metadata": {},
     "output_type": "execute_result"
    }
   ],
   "source": [
    "rfc =RandomForestRegressor(random_state=42)\n",
    "rfc_param = { \n",
    "    'n_estimators': [400, 500, 700],\n",
    "    'max_features': ['auto'],\n",
    "    'max_depth' : [8,9,11],\n",
    "    'criterion' :['mse']\n",
    "}\n",
    "\n",
    "rfc_grid = GridSearchCV(rfc, rfc_param,cv=5, return_train_score=True, )\n",
    "rfc_grid.fit(X_train,y_train)"
   ]
  },
  {
   "cell_type": "code",
   "execution_count": 46,
   "metadata": {},
   "outputs": [
    {
     "name": "stdout",
     "output_type": "stream",
     "text": [
      "Best Mean Cross Validation Score is 0.87287630938839\n",
      "Best Params are {'criterion': 'mse', 'max_depth': 11, 'max_features': 'auto', 'n_estimators': 500}\n",
      "Train score is 0.979810898213451\n",
      "Test score is 0.8734355432056579\n"
     ]
    }
   ],
   "source": [
    "print(f'Best Mean Cross Validation Score is {rfc_grid.best_score_}')\n",
    "print(f'Best Params are {rfc_grid.best_params_}')\n",
    "print(f'Train score is {rfc_grid.score(X_train,y_train)}')\n",
    "print(f'Test score is {rfc_grid.score(X_test,y_test)}')"
   ]
  },
  {
   "cell_type": "markdown",
   "metadata": {},
   "source": [
    "### Extra Trees Regressor"
   ]
  },
  {
   "cell_type": "code",
   "execution_count": 47,
   "metadata": {},
   "outputs": [
    {
     "name": "stdout",
     "output_type": "stream",
     "text": [
      "Best Mean Cross Validation Score is 0.8771333828784206\n",
      "Best Params are {'criterion': 'mse', 'max_depth': 16, 'max_features': 'auto', 'min_samples_leaf': 1, 'min_samples_split': 3, 'n_estimators': 700}\n",
      "Train score is 0.9994604000023742\n",
      "Test score is 0.8572672709797289\n"
     ]
    }
   ],
   "source": [
    "from  sklearn.ensemble import ExtraTreesRegressor\n",
    "etc= ExtraTreesRegressor(random_state=42)\n",
    "etc_param = { \n",
    "    'n_estimators': [400, 500, 700],\n",
    "    'max_features': ['auto'],\n",
    "    'max_depth' : [12,14,16],\n",
    "    'criterion' :['mse'],\n",
    "    'min_samples_split':[3,4],\n",
    "    'min_samples_leaf':[1]\n",
    "}\n",
    "etc_grid = GridSearchCV(etc, etc_param,cv=5, return_train_score=True, )\n",
    "etc_grid.fit(X_train,y_train)\n",
    "\n",
    "print(f'Best Mean Cross Validation Score is {etc_grid.best_score_}')\n",
    "print(f'Best Params are {etc_grid.best_params_}')\n",
    "print(f'Train score is {etc_grid.score(X_train,y_train)}')\n",
    "print(f'Test score is {etc_grid.score(X_test,y_test)}')"
   ]
  },
  {
   "cell_type": "markdown",
   "metadata": {},
   "source": [
    "### Ada Boost with DTree"
   ]
  },
  {
   "cell_type": "code",
   "execution_count": 48,
   "metadata": {},
   "outputs": [
    {
     "name": "stdout",
     "output_type": "stream",
     "text": [
      "Best Mean Cross Validation Score is 0.8734102002416485\n",
      "Best Params {'base_estimator__criterion': 'mse', 'base_estimator__max_depth': 11, 'base_estimator__min_samples_leaf': 1, 'base_estimator__min_samples_split': 2, 'base_estimator__splitter': 'random', 'learning_rate': 0.7, 'n_estimators': 50}\n",
      "Train score is 0.9965480540516481\n",
      "Test score is 0.8523930309781554\n"
     ]
    }
   ],
   "source": [
    "from sklearn.ensemble import AdaBoostRegressor\n",
    "adr_dtree =AdaBoostRegressor(base_estimator=DecisionTreeRegressor(),random_state=42)\n",
    "adr_dtree_param = {\n",
    "              'base_estimator__criterion' : [\"mse\"],\n",
    "              'base_estimator__splitter' :   [\"random\"],\n",
    "              'base_estimator__max_depth' : [2,7,11],\n",
    "              'base_estimator__min_samples_split':[2],\n",
    "              'base_estimator__min_samples_leaf':[1],\n",
    "              'n_estimators' : [40,50,70],\n",
    "              'learning_rate' : [0.5,0.7],\n",
    "             }\n",
    "adr_dtree_grid = GridSearchCV(adr_dtree, adr_dtree_param,cv=5, return_train_score=True, )\n",
    "adr_dtree_grid.fit(X_train,y_train)\n",
    "print(f'Best Mean Cross Validation Score is {adr_dtree_grid.best_score_}')\n",
    "print(f'Best Params {adr_dtree_grid.best_params_}')\n",
    "print(f'Train score is {adr_dtree_grid.score(X_train,y_train)}')\n",
    "print(f'Test score is {adr_dtree_grid.score(X_test,y_test)}')"
   ]
  },
  {
   "cell_type": "markdown",
   "metadata": {},
   "source": [
    "### Ada Boost with Lasso"
   ]
  },
  {
   "cell_type": "code",
   "execution_count": 50,
   "metadata": {},
   "outputs": [
    {
     "name": "stdout",
     "output_type": "stream",
     "text": [
      "Best Mean Cross Validation Score is 0.8666993660546343\n",
      "Best Params {'base_estimator__alpha': 20, 'base_estimator__copy_X': True, 'base_estimator__fit_intercept': True, 'base_estimator__max_iter': 10000, 'base_estimator__normalize': True, 'base_estimator__positive': True, 'base_estimator__precompute': True, 'base_estimator__selection': 'random', 'base_estimator__warm_start': True, 'learning_rate': 1, 'n_estimators': 20}\n",
      "Train score is 0.8901616240880735\n",
      "Test score is 0.8371820701278037\n"
     ]
    }
   ],
   "source": [
    "from sklearn.ensemble import AdaBoostRegressor\n",
    "adc_lasso =AdaBoostRegressor(base_estimator=Lasso(),random_state=42)\n",
    "adc_lasso_param = {\n",
    "        'base_estimator__alpha':[20], \n",
    "               'base_estimator__fit_intercept':[True], \n",
    "               'base_estimator__normalize':[True], 'base_estimator__copy_X':[True], \n",
    "               'base_estimator__precompute':[True],\n",
    "               'base_estimator__warm_start':[True], 'base_estimator__positive':[True], \n",
    "               'base_estimator__selection':['random'], 'base_estimator__max_iter':[10000],\n",
    "               'n_estimators' : [20,30,50],\n",
    "               'learning_rate' : [1,2],\n",
    "              },\n",
    "\n",
    "adc_lasso_grid = GridSearchCV(adc_lasso, adc_lasso_param,cv=5, return_train_score=True, )\n",
    "adc_lasso_grid.fit(X_train,y_train)\n",
    "print(f'Best Mean Cross Validation Score is {adc_lasso_grid.best_score_}')\n",
    "print(f'Best Params {adc_lasso_grid.best_params_}')\n",
    "print(f'Train score is {adc_lasso_grid.score(X_train,y_train)}')\n",
    "print(f'Test score is {adc_lasso_grid.score(X_test,y_test)}')"
   ]
  },
  {
   "cell_type": "markdown",
   "metadata": {},
   "source": [
    "### Gradient Boost"
   ]
  },
  {
   "cell_type": "code",
   "execution_count": 52,
   "metadata": {},
   "outputs": [
    {
     "name": "stdout",
     "output_type": "stream",
     "text": [
      "Best Mean Cross Validation Score is 0.8918646210095856\n",
      "Best Params are {'learning_rate': 0.1, 'max_depth': 5, 'min_samples_leaf': 1, 'min_samples_split': 6, 'n_estimators': 80, 'subsample': 0.6, 'warm_start': True}\n",
      "Train score is 0.9811372637926385\n",
      "Test score is 0.8821170988989305\n"
     ]
    }
   ],
   "source": [
    "from  sklearn.ensemble import GradientBoostingRegressor\n",
    "gbr= GradientBoostingRegressor(random_state=42)\n",
    "gbr_param = {\n",
    "              'min_samples_split':[6],\n",
    "              'subsample':[0.6],\n",
    "              'min_samples_leaf':[1],\n",
    "              'max_depth' : [5,9],\n",
    "              'n_estimators' : [80],\n",
    "              'learning_rate' : [0.1],\n",
    "              'warm_start' : [True]\n",
    "             }\n",
    "\n",
    "gbr_grid = GridSearchCV(gbr, gbr_param,cv=5, return_train_score=True, )\n",
    "gbr_grid.fit(X_train,y_train)\n",
    "print(f'Best Mean Cross Validation Score is {gbr_grid.best_score_}')\n",
    "print(f'Best Params are {gbr_grid.best_params_}')\n",
    "print(f'Train score is {gbr_grid.score(X_train,y_train)}')\n",
    "print(f'Test score is {gbr_grid.score(X_test,y_test)}')"
   ]
  },
  {
   "cell_type": "markdown",
   "metadata": {},
   "source": [
    "### XGBoost"
   ]
  },
  {
   "cell_type": "code",
   "execution_count": 55,
   "metadata": {},
   "outputs": [
    {
     "data": {
      "text/plain": [
       "GridSearchCV(cv=5, error_score=nan,\n",
       "             estimator=XGBRegressor(base_score=None, booster=None,\n",
       "                                    colsample_bylevel=None,\n",
       "                                    colsample_bynode=None,\n",
       "                                    colsample_bytree=None,\n",
       "                                    early_stopping_rounds=2, gamma=None,\n",
       "                                    gpu_id=None, importance_type='gain',\n",
       "                                    interaction_constraints=None,\n",
       "                                    learning_rate=None, max_delta_step=None,\n",
       "                                    max_depth=None, min_child_weight=None,\n",
       "                                    missing=nan, monotone_c...\n",
       "                                    subsample=None, tree_method=None,\n",
       "                                    validate_parameters=False, verbosity=None),\n",
       "             iid='deprecated', n_jobs=None,\n",
       "             param_grid={'alpha': [0.1], 'colsample_bytree': [0.6],\n",
       "                         'gamma': [0.1], 'lambda': [0.1],\n",
       "                         'learning_rate': [0.1], 'max_depth': [6, 8],\n",
       "                         'min_child_weight': [1], 'n_estimators': [150, 175],\n",
       "                         'subsample': [0.4, 0.6]},\n",
       "             pre_dispatch='2*n_jobs', refit=True, return_train_score=True,\n",
       "             scoring=None, verbose=0)"
      ]
     },
     "execution_count": 55,
     "metadata": {},
     "output_type": "execute_result"
    }
   ],
   "source": [
    "from xgboost import XGBRegressor\n",
    "xgbr= XGBRegressor(random_state=42,early_stopping_rounds=2,objective= 'reg:squarederror')\n",
    "xgbr_param = {\n",
    "              'max_depth' : [6,8],\n",
    "              'n_estimators' : [150,175],\n",
    "              'learning_rate' : [0.1],\n",
    "              'gamma' : [0.1],\n",
    "              'min_child_weight' : [1],\n",
    "              'subsample':[0.4,0.6],\n",
    "              'colsample_bytree':[0.6],\n",
    "              'lambda':[0.1],\n",
    "              'alpha':[0.1]\n",
    "             }\n",
    "xgbr_grid = GridSearchCV(xgbr, xgbr_param,cv=5, return_train_score=True)\n",
    "xgbr_grid.fit(X_train,y_train)"
   ]
  },
  {
   "cell_type": "code",
   "execution_count": 69,
   "metadata": {
    "scrolled": true
   },
   "outputs": [
    {
     "name": "stdout",
     "output_type": "stream",
     "text": [
      "Best Mean Cross Validation Score is 0.9000979280668082\n",
      "Best Params {'alpha': 0.1, 'colsample_bytree': 0.6, 'gamma': 0.1, 'lambda': 0.1, 'learning_rate': 0.1, 'max_depth': 6, 'min_child_weight': 1, 'n_estimators': 150, 'subsample': 0.6}\n",
      "Train score is 0.9958177155979924\n",
      "Test score is 0.8990642888872433\n"
     ]
    }
   ],
   "source": [
    "print(f'Best Mean Cross Validation Score is {xgbr_grid.best_score_}')\n",
    "print(f'Best Params {xgbr_grid.best_params_}')\n",
    "print(f'Train score is {xgbr_grid.score(X_train,y_train)}')\n",
    "print(f'Test score is {xgbr_grid.score(X_test,y_test)}')"
   ]
  },
  {
   "cell_type": "markdown",
   "metadata": {},
   "source": [
    "### Summary"
   ]
  },
  {
   "cell_type": "code",
   "execution_count": 57,
   "metadata": {},
   "outputs": [],
   "source": [
    "regressors={\n",
    "             'lnr_reg':lr_gcv,\n",
    "             'lnr_sgd':grid_sgd,\n",
    "             'ridge':grid_ridge,\n",
    "             'lasso':grid_lasso,\n",
    "             'poly':grid_poly,\n",
    "             'elastic':grid_elasticnet,\n",
    "             'knn':gridknn,\n",
    "             'dtree':grid_dt,\n",
    "             'svr':grid_svr,\n",
    "             'bag_dtree':bag_dtree_grid,\n",
    "             'bag_lasso':bag_lasso1_grid,\n",
    "             'pst_dtree':paste_dtree1_grid,\n",
    "             'pst_lasso':paste_lasso1_grid,\n",
    "             'rfr':rfc_grid,\n",
    "             'etr': etc_grid,\n",
    "             'adr_dtree':adr_dtree_grid,\n",
    "             'adr_lasso':adc_lasso_grid,\n",
    "             'gbr': gbr_grid,\n",
    "             'xgbr': xgbr_grid}"
   ]
  },
  {
   "cell_type": "code",
   "execution_count": 58,
   "metadata": {},
   "outputs": [
    {
     "data": {
      "text/plain": [
       "dict_keys(['lnr_reg', 'lnr_sgd', 'ridge', 'lasso', 'poly', 'elastic', 'knn', 'dtree', 'svr', 'bag_dtree', 'bag_lasso', 'pst_dtree', 'pst_lasso', 'rfr', 'etr', 'adr_dtree', 'adr_lasso', 'gbr', 'xgbr'])"
      ]
     },
     "execution_count": 58,
     "metadata": {},
     "output_type": "execute_result"
    }
   ],
   "source": [
    "regressors.keys()"
   ]
  },
  {
   "cell_type": "code",
   "execution_count": 59,
   "metadata": {},
   "outputs": [],
   "source": [
    "results_mean_std = []\n",
    "for  key, value in regressors.items():\n",
    "    mean = value.cv_results_['mean_test_score'][value.best_index_]\n",
    "    std=value.cv_results_['std_test_score'][value.best_index_]\n",
    "     \n",
    "    results_mean_std.append({\n",
    "        \"model\": key,\n",
    "        \"mean\": mean,\n",
    "        \"std\": std\n",
    "    })"
   ]
  },
  {
   "cell_type": "code",
   "execution_count": 60,
   "metadata": {},
   "outputs": [
    {
     "data": {
      "text/html": [
       "<div>\n",
       "<style scoped>\n",
       "    .dataframe tbody tr th:only-of-type {\n",
       "        vertical-align: middle;\n",
       "    }\n",
       "\n",
       "    .dataframe tbody tr th {\n",
       "        vertical-align: top;\n",
       "    }\n",
       "\n",
       "    .dataframe thead th {\n",
       "        text-align: right;\n",
       "    }\n",
       "</style>\n",
       "<table border=\"1\" class=\"dataframe\">\n",
       "  <thead>\n",
       "    <tr style=\"text-align: right;\">\n",
       "      <th></th>\n",
       "      <th>model</th>\n",
       "      <th>mean</th>\n",
       "      <th>std</th>\n",
       "    </tr>\n",
       "  </thead>\n",
       "  <tbody>\n",
       "    <tr>\n",
       "      <td>8</td>\n",
       "      <td>svr</td>\n",
       "      <td>9.009586e-01</td>\n",
       "      <td>1.861271e-02</td>\n",
       "    </tr>\n",
       "    <tr>\n",
       "      <td>18</td>\n",
       "      <td>xgbr</td>\n",
       "      <td>9.000979e-01</td>\n",
       "      <td>8.068477e-03</td>\n",
       "    </tr>\n",
       "    <tr>\n",
       "      <td>17</td>\n",
       "      <td>gbr</td>\n",
       "      <td>8.918646e-01</td>\n",
       "      <td>1.901234e-02</td>\n",
       "    </tr>\n",
       "    <tr>\n",
       "      <td>10</td>\n",
       "      <td>bag_lasso</td>\n",
       "      <td>8.885923e-01</td>\n",
       "      <td>1.333475e-02</td>\n",
       "    </tr>\n",
       "    <tr>\n",
       "      <td>5</td>\n",
       "      <td>elastic</td>\n",
       "      <td>8.872382e-01</td>\n",
       "      <td>1.189988e-02</td>\n",
       "    </tr>\n",
       "    <tr>\n",
       "      <td>12</td>\n",
       "      <td>pst_lasso</td>\n",
       "      <td>8.869759e-01</td>\n",
       "      <td>1.003564e-02</td>\n",
       "    </tr>\n",
       "    <tr>\n",
       "      <td>3</td>\n",
       "      <td>lasso</td>\n",
       "      <td>8.869757e-01</td>\n",
       "      <td>1.004248e-02</td>\n",
       "    </tr>\n",
       "    <tr>\n",
       "      <td>2</td>\n",
       "      <td>ridge</td>\n",
       "      <td>8.841701e-01</td>\n",
       "      <td>1.009004e-02</td>\n",
       "    </tr>\n",
       "    <tr>\n",
       "      <td>1</td>\n",
       "      <td>lnr_sgd</td>\n",
       "      <td>8.839232e-01</td>\n",
       "      <td>1.015564e-02</td>\n",
       "    </tr>\n",
       "    <tr>\n",
       "      <td>14</td>\n",
       "      <td>etr</td>\n",
       "      <td>8.771334e-01</td>\n",
       "      <td>1.368439e-02</td>\n",
       "    </tr>\n",
       "    <tr>\n",
       "      <td>9</td>\n",
       "      <td>bag_dtree</td>\n",
       "      <td>8.736939e-01</td>\n",
       "      <td>1.636447e-02</td>\n",
       "    </tr>\n",
       "    <tr>\n",
       "      <td>15</td>\n",
       "      <td>adr_dtree</td>\n",
       "      <td>8.734102e-01</td>\n",
       "      <td>2.246758e-02</td>\n",
       "    </tr>\n",
       "    <tr>\n",
       "      <td>13</td>\n",
       "      <td>rfr</td>\n",
       "      <td>8.728763e-01</td>\n",
       "      <td>1.402429e-02</td>\n",
       "    </tr>\n",
       "    <tr>\n",
       "      <td>11</td>\n",
       "      <td>pst_dtree</td>\n",
       "      <td>8.696397e-01</td>\n",
       "      <td>1.584417e-02</td>\n",
       "    </tr>\n",
       "    <tr>\n",
       "      <td>16</td>\n",
       "      <td>adr_lasso</td>\n",
       "      <td>8.666994e-01</td>\n",
       "      <td>1.470206e-02</td>\n",
       "    </tr>\n",
       "    <tr>\n",
       "      <td>6</td>\n",
       "      <td>knn</td>\n",
       "      <td>8.094982e-01</td>\n",
       "      <td>9.250171e-03</td>\n",
       "    </tr>\n",
       "    <tr>\n",
       "      <td>7</td>\n",
       "      <td>dtree</td>\n",
       "      <td>7.718016e-01</td>\n",
       "      <td>1.641916e-02</td>\n",
       "    </tr>\n",
       "    <tr>\n",
       "      <td>0</td>\n",
       "      <td>lnr_reg</td>\n",
       "      <td>-6.875243e+03</td>\n",
       "      <td>1.373950e+04</td>\n",
       "    </tr>\n",
       "    <tr>\n",
       "      <td>4</td>\n",
       "      <td>poly</td>\n",
       "      <td>-5.236475e+16</td>\n",
       "      <td>9.585811e+16</td>\n",
       "    </tr>\n",
       "  </tbody>\n",
       "</table>\n",
       "</div>"
      ],
      "text/plain": [
       "        model          mean           std\n",
       "8         svr  9.009586e-01  1.861271e-02\n",
       "18       xgbr  9.000979e-01  8.068477e-03\n",
       "17        gbr  8.918646e-01  1.901234e-02\n",
       "10  bag_lasso  8.885923e-01  1.333475e-02\n",
       "5     elastic  8.872382e-01  1.189988e-02\n",
       "12  pst_lasso  8.869759e-01  1.003564e-02\n",
       "3       lasso  8.869757e-01  1.004248e-02\n",
       "2       ridge  8.841701e-01  1.009004e-02\n",
       "1     lnr_sgd  8.839232e-01  1.015564e-02\n",
       "14        etr  8.771334e-01  1.368439e-02\n",
       "9   bag_dtree  8.736939e-01  1.636447e-02\n",
       "15  adr_dtree  8.734102e-01  2.246758e-02\n",
       "13        rfr  8.728763e-01  1.402429e-02\n",
       "11  pst_dtree  8.696397e-01  1.584417e-02\n",
       "16  adr_lasso  8.666994e-01  1.470206e-02\n",
       "6         knn  8.094982e-01  9.250171e-03\n",
       "7       dtree  7.718016e-01  1.641916e-02\n",
       "0     lnr_reg -6.875243e+03  1.373950e+04\n",
       "4        poly -5.236475e+16  9.585811e+16"
      ]
     },
     "execution_count": 60,
     "metadata": {},
     "output_type": "execute_result"
    }
   ],
   "source": [
    "# Create a Pandas DataFrame with the mean+std results\n",
    "accuracy_df = pd.DataFrame(results_mean_std, columns=['model', 'mean', 'std'])\n",
    "# Show the accuracy dataframe\n",
    "accuracy_df.sort_values(by=['mean'], inplace=True,ascending=False)\n",
    "accuracy_df"
   ]
  },
  {
   "cell_type": "code",
   "execution_count": 61,
   "metadata": {},
   "outputs": [],
   "source": [
    "# Create a prediction of all models on the test set\n",
    "predictions_all = {}\n",
    "for  key, value in regressors.items():\n",
    "    # Get best estimator\n",
    "    best_model = value.best_estimator_\n",
    "    \n",
    "    # Predict test labels\n",
    "    predictions = best_model.predict(X_test)\n",
    "    \n",
    "    # Save predictions to a list\n",
    "    predictions_all[key] = predictions"
   ]
  },
  {
   "cell_type": "code",
   "execution_count": 62,
   "metadata": {},
   "outputs": [],
   "source": [
    "# Creat a DataFrame for the predictions\n",
    "pred = pd.DataFrame(predictions_all)"
   ]
  },
  {
   "cell_type": "code",
   "execution_count": 63,
   "metadata": {},
   "outputs": [
    {
     "data": {
      "text/plain": [
       "Text(0.5, 1, 'Correlation of the test set label prediction between models')"
      ]
     },
     "execution_count": 63,
     "metadata": {},
     "output_type": "execute_result"
    },
    {
     "data": {
      "image/png": "[encoded data removed]",
      "text/plain": [
       "<Figure size 648x432 with 2 Axes>"
      ]
     },
     "metadata": {
      "needs_background": "light"
     },
     "output_type": "display_data"
    }
   ],
   "source": [
    "# Plot a heatmap of all correlations for easier visualization\n",
    "fig, ax = plt.subplots(nrows=1, ncols=1, figsize=(9,6))\n",
    "g = sns.heatmap(pred.corr(), annot=True, cmap='coolwarm', ax=ax)\n",
    "g.set_title('Correlation of the test set label prediction between models')"
   ]
  },
  {
   "cell_type": "code",
   "execution_count": 64,
   "metadata": {},
   "outputs": [],
   "source": [
    "def get_redundant_pairs(df):\n",
    "    '''Get diagonal and lower triangular pairs of correlation matrix'''\n",
    "    pairs_to_drop = set()\n",
    "    cols = df.columns\n",
    "    for i in range(0, df.shape[1]):\n",
    "        for j in range(0, i+1):\n",
    "            pairs_to_drop.add((cols[i], cols[j]))\n",
    "    return pairs_to_drop\n",
    "def get_top_abs_correlations(df, n=5):\n",
    "    au_corr = df.corr().abs().unstack()\n",
    "    labels_to_drop = get_redundant_pairs(df)\n",
    "    au_corr = au_corr.drop(labels=labels_to_drop).sort_values(ascending=True)\n",
    "    return au_corr[0:n]"
   ]
  },
  {
   "cell_type": "code",
   "execution_count": 65,
   "metadata": {},
   "outputs": [
    {
     "name": "stdout",
     "output_type": "stream",
     "text": [
      "Least Absolute Correlations\n",
      "poly  knn          0.065119\n",
      "      bag_dtree    0.263609\n",
      "      rfr          0.265220\n",
      "      dtree        0.267655\n",
      "      pst_dtree    0.271280\n",
      "dtype: float64\n"
     ]
    }
   ],
   "source": [
    "print(\"Least Absolute Correlations\")\n",
    "print(get_top_abs_correlations(pred, 5))"
   ]
  },
  {
   "cell_type": "markdown",
   "metadata": {},
   "source": [
    "### Voting Top 5"
   ]
  },
  {
   "cell_type": "code",
   "execution_count": 66,
   "metadata": {},
   "outputs": [],
   "source": [
    "from sklearn.ensemble import VotingRegressor"
   ]
  },
  {
   "cell_type": "code",
   "execution_count": 67,
   "metadata": {},
   "outputs": [
    {
     "name": "stdout",
     "output_type": "stream",
     "text": [
      "Best Mean Cross Validation Score is 0.905462549359424\n",
      "Best Params {'weights': None}\n",
      "Train score is 0.9629064272280686\n",
      "Test score is 0.8957378922373269\n"
     ]
    }
   ],
   "source": [
    "vreg1 = VotingRegressor(estimators=\n",
    "                              [('xgbr', xgbr_grid.best_estimator_), \n",
    "                               ('gbr', gbr_grid.best_estimator_), \n",
    "                               ('bag_lasso', bag_lasso1_grid.best_estimator_),\n",
    "                               ('elasticnet', grid_elasticnet.best_estimator_),\n",
    "                               ('svr', grid_svr.best_estimator_)\n",
    "                              ], )\n",
    "vreg1_param = {\n",
    "              'weights' : [None]\n",
    "}\n",
    "vreg1_grid = GridSearchCV(vreg1, vreg1_param,cv=5, return_train_score=True)\n",
    "vreg1_grid.fit(X_train,y_train)\n",
    "print(f'Best Mean Cross Validation Score is {vreg1_grid.best_score_}')\n",
    "print(f'Best Params {vreg1_grid.best_params_}')\n",
    "print(f'Train score is {vreg1_grid.score(X_train,y_train)}')\n",
    "print(f'Test score is {vreg1_grid.score(X_test,y_test)}')"
   ]
  },
  {
   "cell_type": "markdown",
   "metadata": {},
   "source": [
    "### Voting Least Correlated"
   ]
  },
  {
   "cell_type": "code",
   "execution_count": 68,
   "metadata": {},
   "outputs": [
    {
     "name": "stdout",
     "output_type": "stream",
     "text": [
      "Best Mean Cross Validation Score is 0.876999005800681\n",
      "Best Params {'weights': None}\n",
      "Train score is 0.9849274131879073\n",
      "Test score is 0.8687020399011836\n"
     ]
    }
   ],
   "source": [
    "vreg2 = VotingRegressor(estimators=\n",
    "                              [('adr_dtree', adr_dtree_grid.best_estimator_), \n",
    "                               ('bag_dtree', bag_dtree_grid.best_estimator_),\n",
    "                               ('rfr', rfc_grid.best_estimator_),\n",
    "                               ('pst_dtree', paste_dtree1_grid.best_estimator_)\n",
    "                              ], )\n",
    "vreg2_param = {\n",
    "              'weights' : [None]\n",
    "}\n",
    "vreg2_grid = GridSearchCV(vreg2, vreg2_param,cv=5, return_train_score=True)\n",
    "vreg2_grid.fit(X_train,y_train)\n",
    "print(f'Best Mean Cross Validation Score is {vreg2_grid.best_score_}')\n",
    "print(f'Best Params {vreg2_grid.best_params_}')\n",
    "print(f'Train score is {vreg2_grid.score(X_train,y_train)}')\n",
    "print(f'Test score is {vreg2_grid.score(X_test,y_test)}')"
   ]
  },
  {
   "cell_type": "code",
   "execution_count": null,
   "metadata": {},
   "outputs": [],
   "source": [
    "regressors={\n",
    "             'lnr_reg':lr_gcv,\n",
    "             'lnr_sgd':grid_sgd,\n",
    "             'ridge':grid_ridge,\n",
    "             'lasso':grid_lasso,\n",
    "             'poly':grid_poly,\n",
    "             'elastic':grid_elasticnet,\n",
    "             'knn':gridknn,\n",
    "             'dtree':grid_dt,\n",
    "             'svr':grid_svr,\n",
    "             'bag_dtree':bag_dtree_grid,\n",
    "             'bag_lasso':bag_lasso1_grid,\n",
    "             'pst_dtree':paste_dtree1_grid,\n",
    "             'pst_lasso':paste_lasso1_grid,\n",
    "             'rfr':rfc_grid,\n",
    "             'etr': etc_grid,\n",
    "             'adr_dtree':adr_dtree_grid,\n",
    "             'adr_lasso':adc_lasso_grid,\n",
    "             'gbr': gbr_grid,\n",
    "             'xgbr': xgbr_grid}"
   ]
  },
  {
   "cell_type": "markdown",
   "metadata": {},
   "source": [
    "### Stacking Top 5"
   ]
  },
  {
   "cell_type": "code",
   "execution_count": 70,
   "metadata": {},
   "outputs": [],
   "source": [
    "from sklearn.ensemble import StackingRegressor"
   ]
  },
  {
   "cell_type": "markdown",
   "metadata": {},
   "source": [
    "Best Mean Cross Validation Score is {'alpha': 0.1, 'colsample_bytree': 0.6, 'gamma': 0.1, 'lambda': 0.1, 'learning_rate': 0.1, 'max_depth': 6, 'min_child_weight': 1, 'n_estimators': 150, 'subsample': 0.6}"
   ]
  },
  {
   "cell_type": "code",
   "execution_count": 77,
   "metadata": {},
   "outputs": [
    {
     "data": {
      "text/plain": [
       "GridSearchCV(cv=5, error_score=nan,\n",
       "             estimator=StackingRegressor(cv=3,\n",
       "                                         estimators=[('xgbr',\n",
       "                                                      XGBRegressor(alpha=0.1,\n",
       "                                                                   base_score=0.5,\n",
       "                                                                   booster=None,\n",
       "                                                                   colsample_bylevel=1,\n",
       "                                                                   colsample_bynode=1,\n",
       "                                                                   colsample_bytree=0.6,\n",
       "                                                                   early_stopping_rounds=2,\n",
       "                                                                   gamma=0.1,\n",
       "                                                                   gpu_id=-1,\n",
       "                                                                   importance_type='gain',\n",
       "                                                                   interaction_constraints=None,\n",
       "                                                                   lambda=0.1,\n",
       "                                                                   learning_rate=0.1,\n",
       "                                                                   max_delta_step=0,\n",
       "                                                                   max_depth=...\n",
       "                                                                      objective='reg:squarederror',\n",
       "                                                                      random_state=None,\n",
       "                                                                      reg_alpha=None,\n",
       "                                                                      reg_lambda=0.1,\n",
       "                                                                      scale_pos_weight=None,\n",
       "                                                                      subsample=0.6,\n",
       "                                                                      tree_method=None,\n",
       "                                                                      validate_parameters=False,\n",
       "                                                                      verbosity=None),\n",
       "                                         n_jobs=None, passthrough=False,\n",
       "                                         verbose=0),\n",
       "             iid='deprecated', n_jobs=None,\n",
       "             param_grid={'final_estimator__n_jobs': [-1]},\n",
       "             pre_dispatch='2*n_jobs', refit=True, return_train_score=True,\n",
       "             scoring=None, verbose=0)"
      ]
     },
     "execution_count": 77,
     "metadata": {},
     "output_type": "execute_result"
    }
   ],
   "source": [
    "sreg1 = StackingRegressor(estimators=\n",
    "                              [('xgbr', xgbr_grid.best_estimator_), \n",
    "                               ('gbr', gbr_grid.best_estimator_), \n",
    "                               ('bag_lasso', bag_lasso1_grid.best_estimator_),\n",
    "#                                ('elasticnet', grid_elasticnet.best_estimator_),\n",
    "                               ('svr', grid_svr.best_estimator_)\n",
    "                              ], final_estimator=XGBRegressor(alpha =0.1, colsample_bytree=0.6, gamma=0.1, learning_rate = 0.1,\n",
    "                                                             max_depth = 6, min_child_weight = 1, n_estimators = 150,\n",
    "                                                             subsample = 0.6, reg_lambda = 0.1), cv=3)\n",
    "sreg1_param = {\n",
    "              'final_estimator__n_jobs' : [-1]\n",
    "              }\n",
    "sreg1_param_grid = GridSearchCV(sreg1, sreg1_param,cv=5, return_train_score=True)\n",
    "sreg1_param_grid.fit(X_train,y_train)"
   ]
  },
  {
   "cell_type": "code",
   "execution_count": 78,
   "metadata": {},
   "outputs": [
    {
     "name": "stdout",
     "output_type": "stream",
     "text": [
      "Best Mean Cross Validation Score is 0.8757598547308921\n",
      "Best Params are {'final_estimator__n_jobs': -1}\n",
      "Train score is 0.9512090531555423\n",
      "Test score is 0.8945623243004622\n"
     ]
    }
   ],
   "source": [
    "print(f'Best Mean Cross Validation Score is {sreg1_param_grid.best_score_}')\n",
    "print(f'Best Params are {sreg1_param_grid.best_params_}')\n",
    "print(f'Train score is {sreg1_param_grid.score(X_train,y_train)}')\n",
    "print(f'Test score is {sreg1_param_grid.score(X_test,y_test)}')"
   ]
  },
  {
   "cell_type": "markdown",
   "metadata": {},
   "source": [
    "### Stacking Least Correlated"
   ]
  },
  {
   "cell_type": "code",
   "execution_count": 79,
   "metadata": {},
   "outputs": [
    {
     "data": {
      "text/plain": [
       "GridSearchCV(cv=5, error_score=nan,\n",
       "             estimator=StackingRegressor(cv=3,\n",
       "                                         estimators=[('adr_dtree',\n",
       "                                                      AdaBoostRegressor(base_estimator=DecisionTreeRegressor(ccp_alpha=0.0,\n",
       "                                                                                                             criterion='mse',\n",
       "                                                                                                             max_depth=11,\n",
       "                                                                                                             max_features=None,\n",
       "                                                                                                             max_leaf_nodes=None,\n",
       "                                                                                                             min_impurity_decrease=0.0,\n",
       "                                                                                                             min_impurity_split=None,\n",
       "                                                                                                             min_samples_leaf=1,\n",
       "                                                                                                             min_samples_split=2,\n",
       "                                                                                                             min_weight_fraction_leaf=0.0,\n",
       "                                                                                                             pres...\n",
       "                                                                      objective='reg:squarederror',\n",
       "                                                                      random_state=None,\n",
       "                                                                      reg_alpha=None,\n",
       "                                                                      reg_lambda=0.1,\n",
       "                                                                      scale_pos_weight=None,\n",
       "                                                                      subsample=0.6,\n",
       "                                                                      tree_method=None,\n",
       "                                                                      validate_parameters=False,\n",
       "                                                                      verbosity=None),\n",
       "                                         n_jobs=None, passthrough=False,\n",
       "                                         verbose=0),\n",
       "             iid='deprecated', n_jobs=None,\n",
       "             param_grid={'final_estimator__n_jobs': [-1]},\n",
       "             pre_dispatch='2*n_jobs', refit=True, return_train_score=True,\n",
       "             scoring=None, verbose=0)"
      ]
     },
     "execution_count": 79,
     "metadata": {},
     "output_type": "execute_result"
    }
   ],
   "source": [
    "sreg2 = StackingRegressor(estimators=\n",
    "                              [('adr_dtree', adr_dtree_grid.best_estimator_), \n",
    "                               ('bag_dtree', bag_dtree_grid.best_estimator_),\n",
    "                               ('rfr', rfc_grid.best_estimator_),\n",
    "                               ('pst_dtree', paste_dtree1_grid.best_estimator_)\n",
    "                              ], final_estimator=XGBRegressor(alpha =0.1, colsample_bytree=0.6, gamma=0.1, learning_rate = 0.1,\n",
    "                                                             max_depth = 6, min_child_weight = 1, n_estimators = 150,\n",
    "                                                             subsample = 0.6, reg_lambda = 0.1), cv=3)\n",
    "sreg2_param = {\n",
    "              'final_estimator__n_jobs' : [-1]\n",
    "              }\n",
    "sreg2_param_grid = GridSearchCV(sreg2, sreg2_param,cv=5, return_train_score=True)\n",
    "sreg2_param_grid.fit(X_train,y_train)"
   ]
  },
  {
   "cell_type": "code",
   "execution_count": 80,
   "metadata": {},
   "outputs": [
    {
     "name": "stdout",
     "output_type": "stream",
     "text": [
      "Best Mean Cross Validation Score is 0.8358407981627947\n",
      "Best Params are {'final_estimator__n_jobs': -1}\n",
      "Train score is 0.945114065016067\n",
      "Test score is 0.8320224667291407\n"
     ]
    }
   ],
   "source": [
    "print(f'Best Mean Cross Validation Score is {sreg2_param_grid.best_score_}')\n",
    "print(f'Best Params are {sreg2_param_grid.best_params_}')\n",
    "print(f'Train score is {sreg2_param_grid.score(X_train,y_train)}')\n",
    "print(f'Test score is {sreg2_param_grid.score(X_test,y_test)}')"
   ]
  }
 ],
 "metadata": {
  "kernelspec": {
   "display_name": "Python 3",
   "language": "python",
   "name": "python3"
  },
  "language_info": {
   "codemirror_mode": {
    "name": "ipython",
    "version": 3
   },
   "file_extension": ".py",
   "mimetype": "text/x-python",
   "name": "python",
   "nbconvert_exporter": "python",
   "pygments_lexer": "ipython3",
   "version": "3.7.4"
  },
  "toc": {
   "base_numbering": 1,
   "nav_menu": {},
   "number_sections": true,
   "sideBar": true,
   "skip_h1_title": false,
   "title_cell": "Table of Contents",
   "title_sidebar": "Contents",
   "toc_cell": false,
   "toc_position": {
    "height": "861.75px",
    "left": "0px",
    "right": "1324px",
    "top": "107px",
    "width": "409.153px"
   },
   "toc_section_display": true,
   "toc_window_display": true
  },
  "varInspector": {
   "cols": {
    "lenName": 16,
    "lenType": 16,
    "lenVar": 40
   },
   "kernels_config": {
    "python": {
     "delete_cmd_postfix": "",
     "delete_cmd_prefix": "del ",
     "library": "var_list.py",
     "varRefreshCmd": "print(var_dic_list())"
    },
    "r": {
     "delete_cmd_postfix": ") ",
     "delete_cmd_prefix": "rm(",
     "library": "var_list.r",
     "varRefreshCmd": "cat(var_dic_list()) "
    }
   },
   "types_to_exclude": [
    "module",
    "function",
    "builtin_function_or_method",
    "instance",
    "_Feature"
   ],
   "window_display": false
  }
 },
 "nbformat": 4,
 "nbformat_minor": 2
}
